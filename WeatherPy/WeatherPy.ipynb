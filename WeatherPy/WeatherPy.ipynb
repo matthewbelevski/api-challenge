{
 "cells": [
  {
   "cell_type": "markdown",
   "metadata": {},
   "source": [
    "# WeatherPy\n",
    "----\n",
    "\n",
    "#### Note\n",
    "* Instructions have been included for each segment. You do not have to follow them exactly, but they are included to help you think through the steps."
   ]
  },
  {
   "cell_type": "code",
   "execution_count": 1,
   "metadata": {
    "scrolled": true
   },
   "outputs": [],
   "source": [
    "#import dependencies\n",
    "import pandas as pd\n",
    "import numpy as np\n",
    "import matplotlib.pyplot as plt\n",
    "import scipy.stats as sts\n",
    "from api_keys import weather_api_key\n",
    "from citipy import citipy\n",
    "import random\n",
    "from pprint import pprint\n",
    "import json\n",
    "import requests\n",
    "from scipy.stats import linregress\n",
    "import datetime"
   ]
  },
  {
   "cell_type": "markdown",
   "metadata": {},
   "source": [
    "## Generate Cities List"
   ]
  },
  {
   "cell_type": "code",
   "execution_count": 2,
   "metadata": {},
   "outputs": [
    {
     "data": {
      "text/html": [
       "<div>\n",
       "<style scoped>\n",
       "    .dataframe tbody tr th:only-of-type {\n",
       "        vertical-align: middle;\n",
       "    }\n",
       "\n",
       "    .dataframe tbody tr th {\n",
       "        vertical-align: top;\n",
       "    }\n",
       "\n",
       "    .dataframe thead th {\n",
       "        text-align: right;\n",
       "    }\n",
       "</style>\n",
       "<table border=\"1\" class=\"dataframe\">\n",
       "  <thead>\n",
       "    <tr style=\"text-align: right;\">\n",
       "      <th></th>\n",
       "      <th>City Name</th>\n",
       "      <th>Lat</th>\n",
       "      <th>Long</th>\n",
       "      <th>Country Code</th>\n",
       "    </tr>\n",
       "  </thead>\n",
       "  <tbody>\n",
       "    <tr>\n",
       "      <th>0</th>\n",
       "      <td>lumeje</td>\n",
       "      <td>-11.675419</td>\n",
       "      <td>21.437694</td>\n",
       "      <td>ao</td>\n",
       "    </tr>\n",
       "    <tr>\n",
       "      <th>1</th>\n",
       "      <td>sawakin</td>\n",
       "      <td>19.606913</td>\n",
       "      <td>36.743577</td>\n",
       "      <td>sd</td>\n",
       "    </tr>\n",
       "    <tr>\n",
       "      <th>2</th>\n",
       "      <td>doctor pedro p. pena</td>\n",
       "      <td>-21.423050</td>\n",
       "      <td>-61.366097</td>\n",
       "      <td>py</td>\n",
       "    </tr>\n",
       "    <tr>\n",
       "      <th>3</th>\n",
       "      <td>rikitea</td>\n",
       "      <td>-83.216747</td>\n",
       "      <td>-131.097057</td>\n",
       "      <td>pf</td>\n",
       "    </tr>\n",
       "    <tr>\n",
       "      <th>4</th>\n",
       "      <td>bethel</td>\n",
       "      <td>42.900378</td>\n",
       "      <td>-173.386726</td>\n",
       "      <td>us</td>\n",
       "    </tr>\n",
       "  </tbody>\n",
       "</table>\n",
       "</div>"
      ],
      "text/plain": [
       "              City Name        Lat        Long Country Code\n",
       "0                lumeje -11.675419   21.437694           ao\n",
       "1               sawakin  19.606913   36.743577           sd\n",
       "2  doctor pedro p. pena -21.423050  -61.366097           py\n",
       "3               rikitea -83.216747 -131.097057           pf\n",
       "4                bethel  42.900378 -173.386726           us"
      ]
     },
     "execution_count": 2,
     "metadata": {},
     "output_type": "execute_result"
    }
   ],
   "source": [
    "#creates empty lists\n",
    "lat_list = []\n",
    "long_list = []\n",
    "city_name = []\n",
    "country_code = []\n",
    "\n",
    "#sets a range of 2000 random numbers and samples 1500\n",
    "random.sample(range(2000),1500)\n",
    "\n",
    "for x in range(1500):\n",
    "    lat = random.uniform(-90,90)\n",
    "    lat_list.append(lat)\n",
    "    long = random.uniform(-180,180)\n",
    "    long_list.append(long)\n",
    "    city = citipy.nearest_city(lat, long)\n",
    "    city_name.append(city.city_name)\n",
    "    country_code.append(city.country_code)\n",
    "    \n",
    "city_list = pd.DataFrame({\"City Name\" : city_name, \"Lat\": lat_list, \"Long\": long_list, \"Country Code\": country_code})\n",
    "\n",
    "city_list.head()"
   ]
  },
  {
   "cell_type": "code",
   "execution_count": 3,
   "metadata": {},
   "outputs": [
    {
     "data": {
      "text/plain": [
       "1500"
      ]
     },
     "execution_count": 3,
     "metadata": {},
     "output_type": "execute_result"
    }
   ],
   "source": [
    "#checking to see if random generated 1500 unique lat values\n",
    "city_list[\"Lat\"].nunique()"
   ]
  },
  {
   "cell_type": "code",
   "execution_count": 4,
   "metadata": {},
   "outputs": [
    {
     "data": {
      "text/plain": [
       "1500"
      ]
     },
     "execution_count": 4,
     "metadata": {},
     "output_type": "execute_result"
    }
   ],
   "source": [
    "#checking to see if random generated 1500 unique long values\n",
    "city_list[\"Long\"].nunique()"
   ]
  },
  {
   "cell_type": "code",
   "execution_count": 5,
   "metadata": {},
   "outputs": [],
   "source": [
    "#searches for duplicates and keeps the first one\n",
    "duplicates = city_list[city_list.duplicated(subset = [\"City Name\", \"Country Code\"], keep= \"first\")]\n",
    "\n",
    "#drops the duplicates except for the first\n",
    "city_list_clean = city_list.drop(duplicates.index)"
   ]
  },
  {
   "cell_type": "code",
   "execution_count": 6,
   "metadata": {},
   "outputs": [
    {
     "data": {
      "text/html": [
       "<div>\n",
       "<style scoped>\n",
       "    .dataframe tbody tr th:only-of-type {\n",
       "        vertical-align: middle;\n",
       "    }\n",
       "\n",
       "    .dataframe tbody tr th {\n",
       "        vertical-align: top;\n",
       "    }\n",
       "\n",
       "    .dataframe thead th {\n",
       "        text-align: right;\n",
       "    }\n",
       "</style>\n",
       "<table border=\"1\" class=\"dataframe\">\n",
       "  <thead>\n",
       "    <tr style=\"text-align: right;\">\n",
       "      <th></th>\n",
       "      <th>City Name</th>\n",
       "      <th>Lat</th>\n",
       "      <th>Long</th>\n",
       "      <th>Country Code</th>\n",
       "    </tr>\n",
       "  </thead>\n",
       "  <tbody>\n",
       "    <tr>\n",
       "      <th>0</th>\n",
       "      <td>lumeje</td>\n",
       "      <td>-11.675419</td>\n",
       "      <td>21.437694</td>\n",
       "      <td>ao</td>\n",
       "    </tr>\n",
       "    <tr>\n",
       "      <th>1</th>\n",
       "      <td>sawakin</td>\n",
       "      <td>19.606913</td>\n",
       "      <td>36.743577</td>\n",
       "      <td>sd</td>\n",
       "    </tr>\n",
       "    <tr>\n",
       "      <th>2</th>\n",
       "      <td>doctor pedro p. pena</td>\n",
       "      <td>-21.423050</td>\n",
       "      <td>-61.366097</td>\n",
       "      <td>py</td>\n",
       "    </tr>\n",
       "    <tr>\n",
       "      <th>3</th>\n",
       "      <td>rikitea</td>\n",
       "      <td>-83.216747</td>\n",
       "      <td>-131.097057</td>\n",
       "      <td>pf</td>\n",
       "    </tr>\n",
       "    <tr>\n",
       "      <th>4</th>\n",
       "      <td>bethel</td>\n",
       "      <td>42.900378</td>\n",
       "      <td>-173.386726</td>\n",
       "      <td>us</td>\n",
       "    </tr>\n",
       "  </tbody>\n",
       "</table>\n",
       "</div>"
      ],
      "text/plain": [
       "              City Name        Lat        Long Country Code\n",
       "0                lumeje -11.675419   21.437694           ao\n",
       "1               sawakin  19.606913   36.743577           sd\n",
       "2  doctor pedro p. pena -21.423050  -61.366097           py\n",
       "3               rikitea -83.216747 -131.097057           pf\n",
       "4                bethel  42.900378 -173.386726           us"
      ]
     },
     "execution_count": 6,
     "metadata": {},
     "output_type": "execute_result"
    }
   ],
   "source": [
    "#display new dataframe\n",
    "city_list_clean.head()"
   ]
  },
  {
   "cell_type": "markdown",
   "metadata": {},
   "source": [
    "### Perform API Calls\n",
    "* Perform a weather check on each city using a series of successive API calls.\n",
    "* Include a print log of each city as it'sbeing processed (with the city number and city name).\n"
   ]
  },
  {
   "cell_type": "code",
   "execution_count": 7,
   "metadata": {},
   "outputs": [
    {
     "name": "stdout",
     "output_type": "stream",
     "text": [
      "Beginnning Data Retrieval\n",
      "--------------------------------\n",
      "Processing Record 1 | lumeje,ao\n",
      "Processing Record 2 | sawakin,sd\n",
      "doctor pedro p. pena,py not found...skipping\n",
      "Processing Record 3 | rikitea,pf\n",
      "Processing Record 4 | bethel,us\n",
      "Processing Record 5 | yellowknife,ca\n",
      "barentsburg,sj not found...skipping\n",
      "Processing Record 6 | port moresby,pg\n",
      "Processing Record 7 | dunedin,nz\n",
      "Processing Record 8 | lithgow,au\n",
      "mataura,pf not found...skipping\n",
      "Processing Record 9 | nantucket,us\n",
      "Processing Record 10 | dioknisi,ge\n",
      "codrington,ag not found...skipping\n",
      "Processing Record 11 | nikolskoye,ru\n",
      "Processing Record 12 | norman wells,ca\n",
      "Processing Record 13 | padang,id\n",
      "Processing Record 14 | atuona,pf\n",
      "Processing Record 15 | butaritari,ki\n",
      "Processing Record 16 | avarua,ck\n",
      "Processing Record 17 | aklavik,ca\n",
      "Processing Record 18 | port hedland,au\n",
      "Processing Record 19 | dikson,ru\n",
      "Processing Record 20 | hermanus,za\n",
      "Processing Record 21 | hilo,us\n",
      "Processing Record 22 | shimoda,jp\n",
      "Processing Record 23 | linqiong,cn\n",
      "tsihombe,mg not found...skipping\n",
      "Processing Record 24 | qaanaaq,gl\n",
      "Processing Record 25 | biak,id\n",
      "Processing Record 26 | rabaul,pg\n",
      "Processing Record 27 | san cristobal,ec\n",
      "Processing Record 28 | barrow,us\n",
      "Processing Record 29 | jamestown,sh\n",
      "Processing Record 30 | leningradskiy,ru\n",
      "Processing Record 31 | bacolod,ph\n",
      "Processing Record 32 | havoysund,no\n",
      "nizhneyansk,ru not found...skipping\n",
      "Processing Record 33 | carnarvon,au\n",
      "Processing Record 34 | bengkulu,id\n",
      "Processing Record 35 | coachella,us\n",
      "Processing Record 36 | khandagayty,ru\n",
      "Processing Record 37 | poum,nc\n",
      "Processing Record 38 | punta arenas,cl\n",
      "Processing Record 39 | san vicente,ph\n",
      "Processing Record 40 | thompson,ca\n",
      "Processing Record 41 | ewo,cg\n",
      "Processing Record 42 | lipin bor,ru\n",
      "Processing Record 43 | sabang,id\n",
      "Processing Record 44 | gasa,bt\n",
      "Processing Record 45 | nesna,no\n",
      "Processing Record 46 | conway,us\n",
      "tabiauea,ki not found...skipping\n",
      "sentyabrskiy,ru not found...skipping\n",
      "Processing Record 47 | pevek,ru\n",
      "Processing Record 48 | menomonie,us\n",
      "Processing Record 49 | ilulissat,gl\n",
      "Processing Record 50 | bambous virieux,mu\n",
      "Processing Record 51 | makat,kz\n",
      "Processing Record 52 | vaini,to\n",
      "Processing Record 53 | yangliuqing,cn\n",
      "Processing Record 54 | busselton,au\n",
      "Processing Record 55 | esperance,au\n",
      "Processing Record 56 | mar del plata,ar\n",
      "Processing Record 57 | hithadhoo,mv\n",
      "Processing Record 58 | kaitangata,nz\n",
      "Processing Record 59 | valparaiso,cl\n",
      "Processing Record 60 | ushuaia,ar\n",
      "Processing Record 61 | bluff,nz\n",
      "Processing Record 62 | atbasar,kz\n",
      "Processing Record 63 | hun,ly\n",
      "Processing Record 64 | yerofey pavlovich,ru\n",
      "Processing Record 65 | puerto ayora,ec\n",
      "Processing Record 66 | tucuman,ar\n",
      "Processing Record 67 | srednekolymsk,ru\n",
      "Processing Record 68 | yeppoon,au\n",
      "Processing Record 69 | cherskiy,ru\n",
      "Processing Record 70 | nouakchott,mr\n",
      "Processing Record 71 | qasigiannguit,gl\n",
      "Processing Record 72 | georgetown,sh\n",
      "vieques,us not found...skipping\n",
      "Processing Record 73 | vao,nc\n",
      "Processing Record 74 | torbay,ca\n",
      "Processing Record 75 | hobart,au\n",
      "Processing Record 76 | ribeira grande,pt\n",
      "Processing Record 77 | gobabis,na\n",
      "Processing Record 78 | broken hill,au\n",
      "Processing Record 79 | cape town,za\n",
      "Processing Record 80 | manjeshwar,in\n",
      "Processing Record 81 | constitucion,mx\n",
      "Processing Record 82 | trelaze,fr\n",
      "attawapiskat,ca not found...skipping\n",
      "Processing Record 83 | belaya gora,ru\n",
      "Processing Record 84 | port alfred,za\n",
      "Processing Record 85 | bredasdorp,za\n",
      "Processing Record 86 | deming,us\n",
      "taolanaro,mg not found...skipping\n",
      "Processing Record 87 | pastavy,by\n",
      "Processing Record 88 | la ronge,ca\n",
      "Processing Record 89 | cedar city,us\n",
      "Processing Record 90 | new norfolk,au\n",
      "Processing Record 91 | kirovskiy,ru\n",
      "belushya guba,ru not found...skipping\n",
      "kazalinsk,kz not found...skipping\n",
      "Processing Record 92 | port elizabeth,za\n",
      "Processing Record 93 | zhigansk,ru\n",
      "Processing Record 94 | liwale,tz\n",
      "Processing Record 95 | souillac,mu\n",
      "coulihaut,dm not found...skipping\n",
      "Processing Record 96 | cidreira,br\n",
      "Processing Record 97 | banjar,id\n",
      "Processing Record 98 | merauke,id\n",
      "yuli,tw not found...skipping\n",
      "Processing Record 99 | vila franca do campo,pt\n",
      "Processing Record 100 | tuktoyaktuk,ca\n",
      "Processing Record 101 | ndola,zm\n",
      "roches noires,mu not found...skipping\n",
      "Processing Record 102 | alta floresta,br\n",
      "Processing Record 103 | shingu,jp\n",
      "Processing Record 104 | petrykivka,ua\n",
      "Processing Record 105 | kapaa,us\n",
      "Processing Record 106 | lebu,cl\n",
      "Processing Record 107 | el retorno,co\n",
      "amderma,ru not found...skipping\n",
      "Processing Record 108 | neon karlovasion,gr\n",
      "Processing Record 109 | atar,mr\n",
      "Processing Record 110 | almaznyy,ru\n",
      "Processing Record 111 | albany,au\n",
      "illoqqortoormiut,gl not found...skipping\n",
      "Processing Record 112 | komsomolskiy,ru\n",
      "Processing Record 113 | placido de castro,br\n",
      "Processing Record 114 | sao filipe,cv\n",
      "Processing Record 115 | khatanga,ru\n",
      "Processing Record 116 | sorland,no\n",
      "Processing Record 117 | orumiyeh,ir\n",
      "shchelyayur,ru not found...skipping\n",
      "Processing Record 118 | namibe,ao\n",
      "mys shmidta,ru not found...skipping\n",
      "Processing Record 119 | humaita,br\n",
      "Processing Record 120 | divnomorskoye,ru\n",
      "Processing Record 121 | kavaratti,in\n",
      "Processing Record 122 | rundu,na\n",
      "Processing Record 123 | harlingen,nl\n",
      "Processing Record 124 | iranshahr,ir\n",
      "Processing Record 125 | champerico,gt\n",
      "Processing Record 126 | urumqi,cn\n",
      "Processing Record 127 | saldanha,za\n",
      "Processing Record 128 | nueva loja,ec\n",
      "samusu,ws not found...skipping\n",
      "Processing Record 129 | areia branca,br\n",
      "Processing Record 130 | geraldton,ca\n",
      "Processing Record 131 | matay,eg\n",
      "Processing Record 132 | nganjuk,id\n",
      "Processing Record 133 | chuy,uy\n",
      "Processing Record 134 | salalah,om\n",
      "Processing Record 135 | killybegs,ie\n",
      "Processing Record 136 | luau,ao\n",
      "Processing Record 137 | albury,au\n",
      "Processing Record 138 | upernavik,gl\n",
      "Processing Record 139 | provideniya,ru\n",
      "Processing Record 140 | hovd,mn\n",
      "Processing Record 141 | taltal,cl\n",
      "Processing Record 142 | fatehabad,in\n",
      "Processing Record 143 | ahipara,nz\n",
      "Processing Record 144 | guerrero negro,mx\n",
      "Processing Record 145 | karratha,au\n",
      "Processing Record 146 | bandarbeyla,so\n",
      "Processing Record 147 | grindavik,is\n",
      "Processing Record 148 | antofagasta,cl\n",
      "Processing Record 149 | lorengau,pg\n",
      "Processing Record 150 | salinas,ec\n",
      "Processing Record 151 | mahebourg,mu\n",
      "Processing Record 152 | pathein,mm\n",
      "Processing Record 153 | kahului,us\n",
      "Processing Record 154 | sikonge,tz\n",
      "vaitupu,wf not found...skipping\n",
      "Processing Record 155 | boone,us\n",
      "Processing Record 156 | yar-sale,ru\n",
      "Processing Record 157 | astana,kz\n",
      "Processing Record 158 | aykhal,ru\n",
      "Processing Record 159 | kaura namoda,ng\n",
      "Processing Record 160 | hami,cn\n",
      "Processing Record 161 | vaitape,pf\n",
      "airai,pw not found...skipping\n",
      "Processing Record 162 | lagoa,pt\n",
      "Processing Record 163 | yumen,cn\n",
      "Processing Record 164 | talnakh,ru\n",
      "Processing Record 165 | faanui,pf\n",
      "Processing Record 166 | chokurdakh,ru\n",
      "Processing Record 167 | namatanai,pg\n",
      "Processing Record 168 | mbengwi,cm\n",
      "Processing Record 169 | sakakah,sa\n",
      "Processing Record 170 | katherine,au\n",
      "Processing Record 171 | castelo do piaui,br\n",
      "Processing Record 172 | whitecourt,ca\n",
      "Processing Record 173 | vila velha,br\n",
      "Processing Record 174 | longyearbyen,sj\n",
      "grand river south east,mu not found...skipping\n",
      "Processing Record 175 | rawson,ar\n",
      "Processing Record 176 | porto empedocle,it\n",
      "Processing Record 177 | saint george,bm\n",
      "Processing Record 178 | husavik,is\n",
      "Processing Record 179 | san policarpo,ph\n",
      "Processing Record 180 | balkanabat,tm\n",
      "Processing Record 181 | saskylakh,ru\n",
      "Processing Record 182 | albacete,es\n",
      "umm ruwabah,sd not found...skipping\n",
      "Processing Record 183 | adrar,dz\n",
      "dianopolis,br not found...skipping\n",
      "Processing Record 184 | contamana,pe\n",
      "vestbygda,no not found...skipping\n",
      "Processing Record 185 | fare,pf\n",
      "Processing Record 186 | formosa,ar\n",
      "Processing Record 187 | walvis bay,na\n",
      "Processing Record 188 | nome,us\n",
      "Processing Record 189 | vihti,fi\n",
      "Processing Record 190 | fomboni,km\n",
      "Processing Record 191 | sitka,us\n",
      "Processing Record 192 | santa isabel do rio negro,br\n",
      "Processing Record 193 | fortuna,us\n",
      "Processing Record 194 | westport,ie\n",
      "Processing Record 195 | kangaatsiaq,gl\n",
      "Processing Record 196 | flin flon,ca\n",
      "Processing Record 197 | puri,in\n",
      "Processing Record 198 | saint-augustin,ca\n",
      "Processing Record 199 | sturgis,us\n",
      "Processing Record 200 | amiens,fr\n"
     ]
    },
    {
     "name": "stdout",
     "output_type": "stream",
     "text": [
      "Processing Record 201 | tessalit,ml\n",
      "Processing Record 202 | teknaf,bd\n",
      "Processing Record 203 | yantal,ru\n",
      "Processing Record 204 | hamilton,bm\n",
      "Processing Record 205 | severo-kurilsk,ru\n",
      "Processing Record 206 | peterhead,gb\n",
      "Processing Record 207 | leh,in\n",
      "Processing Record 208 | oranjestad,aw\n",
      "privokzalnyy,ru not found...skipping\n",
      "Processing Record 209 | touros,br\n",
      "Processing Record 210 | shelburne,ca\n",
      "Processing Record 211 | east london,za\n",
      "Processing Record 212 | garden city,us\n",
      "Processing Record 213 | poopo,bo\n",
      "Processing Record 214 | oudtshoorn,za\n",
      "Processing Record 215 | yulara,au\n",
      "Processing Record 216 | lekoni,ga\n",
      "Processing Record 217 | makurdi,ng\n",
      "Processing Record 218 | waipawa,nz\n",
      "Processing Record 219 | zhezkazgan,kz\n",
      "Processing Record 220 | castro,cl\n",
      "Processing Record 221 | cockburn town,tc\n",
      "Processing Record 222 | college,us\n",
      "marcona,pe not found...skipping\n",
      "Processing Record 223 | okhotsk,ru\n",
      "Processing Record 224 | tuatapere,nz\n",
      "Processing Record 225 | ballina,au\n",
      "Processing Record 226 | kloulklubed,pw\n",
      "Processing Record 227 | meulaboh,id\n",
      "Processing Record 228 | nizhniy kuranakh,ru\n",
      "Processing Record 229 | banda aceh,id\n",
      "suao,tw not found...skipping\n",
      "Processing Record 230 | kiunga,pg\n",
      "Processing Record 231 | hofn,is\n",
      "Processing Record 232 | victoria,sc\n",
      "Processing Record 233 | lokoja,ng\n",
      "Processing Record 234 | agirish,ru\n",
      "Processing Record 235 | waitati,nz\n",
      "Processing Record 236 | camalu,mx\n",
      "Processing Record 237 | beipiao,cn\n",
      "Processing Record 238 | vermillion,us\n",
      "Processing Record 239 | abeche,td\n",
      "Processing Record 240 | jingdezhen,cn\n",
      "Processing Record 241 | ancud,cl\n",
      "Processing Record 242 | moerai,pf\n",
      "Processing Record 243 | lewistown,us\n",
      "Processing Record 244 | kharp,ru\n",
      "Processing Record 245 | vulcanesti,md\n",
      "bereda,so not found...skipping\n",
      "Processing Record 246 | pisco,pe\n",
      "Processing Record 247 | geraldton,au\n",
      "Processing Record 248 | marau,br\n",
      "Processing Record 249 | anajatuba,br\n",
      "Processing Record 250 | byron bay,au\n",
      "palabuhanratu,id not found...skipping\n",
      "Processing Record 251 | mount isa,au\n",
      "Processing Record 252 | katsuura,jp\n",
      "Processing Record 253 | kadur,in\n",
      "Processing Record 254 | salisbury,ca\n",
      "faya,td not found...skipping\n",
      "Processing Record 255 | najran,sa\n",
      "Processing Record 256 | juneau,us\n",
      "Processing Record 257 | labytnangi,ru\n",
      "Processing Record 258 | port hardy,ca\n",
      "Processing Record 259 | trincomalee,lk\n",
      "Processing Record 260 | kutum,sd\n",
      "saint anthony,ca not found...skipping\n",
      "Processing Record 261 | hambantota,lk\n",
      "Processing Record 262 | vestmannaeyjar,is\n",
      "Processing Record 263 | tasiilaq,gl\n",
      "Processing Record 264 | cabo san lucas,mx\n",
      "Processing Record 265 | kavieng,pg\n",
      "Processing Record 266 | parkes,au\n",
      "Processing Record 267 | pemba,mz\n",
      "Processing Record 268 | koulikoro,ml\n",
      "Processing Record 269 | ahuimanu,us\n",
      "Processing Record 270 | mangrol,in\n",
      "Processing Record 271 | santa cruz,cr\n",
      "Processing Record 272 | suleja,ng\n",
      "Processing Record 273 | harbour breton,ca\n",
      "Processing Record 274 | susangerd,ir\n",
      "Processing Record 275 | truth or consequences,us\n",
      "Processing Record 276 | jayanca,pe\n",
      "Processing Record 277 | olinda,br\n",
      "Processing Record 278 | borogontsy,ru\n",
      "Processing Record 279 | san quintin,mx\n",
      "Processing Record 280 | grand gaube,mu\n",
      "Processing Record 281 | haines junction,ca\n",
      "samalaeulu,ws not found...skipping\n",
      "Processing Record 282 | nemuro,jp\n",
      "Processing Record 283 | rexburg,us\n",
      "Processing Record 284 | bathsheba,bb\n",
      "Processing Record 285 | sungaipenuh,id\n",
      "Processing Record 286 | burnie,au\n",
      "Processing Record 287 | otradnoye,ru\n",
      "Processing Record 288 | taoudenni,ml\n",
      "viligili,mv not found...skipping\n",
      "Processing Record 289 | soe,id\n",
      "Processing Record 290 | phan thiet,vn\n",
      "hunza,pk not found...skipping\n",
      "Processing Record 291 | oistins,bb\n",
      "Processing Record 292 | san miguel,bo\n",
      "sataua,ws not found...skipping\n",
      "Processing Record 293 | ostrovnoy,ru\n",
      "saleaula,ws not found...skipping\n",
      "Processing Record 294 | waren,de\n",
      "oga,jp not found...skipping\n",
      "Processing Record 295 | le port,re\n",
      "Processing Record 296 | lusaka,zm\n",
      "Processing Record 297 | alofi,nu\n",
      "Processing Record 298 | guozhen,cn\n",
      "Processing Record 299 | mount gambier,au\n",
      "Processing Record 300 | santiago del estero,ar\n",
      "Processing Record 301 | kodiak,us\n",
      "Processing Record 302 | klaksvik,fo\n",
      "Processing Record 303 | diapaga,bf\n",
      "avera,pf not found...skipping\n",
      "Processing Record 304 | mushie,cd\n",
      "Processing Record 305 | machilipatnam,in\n",
      "umzimvubu,za not found...skipping\n",
      "Processing Record 306 | mercedes,ar\n",
      "Processing Record 307 | saint-pierre,mq\n",
      "Processing Record 308 | raudeberg,no\n",
      "Processing Record 309 | otane,nz\n",
      "Processing Record 310 | portland,au\n",
      "Processing Record 311 | sola,vu\n",
      "Processing Record 312 | wilmington,us\n",
      "Processing Record 313 | chipinge,zw\n",
      "Processing Record 314 | le creusot,fr\n",
      "Processing Record 315 | aswan,eg\n",
      "Processing Record 316 | champasak,la\n",
      "lolua,tv not found...skipping\n",
      "Processing Record 317 | the valley,ai\n",
      "hihifo,to not found...skipping\n",
      "Processing Record 318 | kangaba,ml\n",
      "Processing Record 319 | cowra,au\n",
      "Processing Record 320 | peniche,pt\n",
      "Processing Record 321 | mangai,cd\n",
      "Processing Record 322 | buchanan,lr\n",
      "khormuj,ir not found...skipping\n",
      "Processing Record 323 | soto la marina,mx\n",
      "Processing Record 324 | neiafu,to\n",
      "Processing Record 325 | paamiut,gl\n",
      "Processing Record 326 | ixtapa,mx\n",
      "Processing Record 327 | fort nelson,ca\n",
      "gat,ly not found...skipping\n",
      "Processing Record 328 | buchmany,ua\n",
      "Processing Record 329 | magistralnyy,ru\n",
      "Processing Record 330 | kieta,pg\n",
      "gurgan,az not found...skipping\n",
      "Processing Record 331 | livingston,us\n",
      "Processing Record 332 | saint-joseph,re\n",
      "Processing Record 333 | puerto narino,co\n",
      "Processing Record 334 | tutoia,br\n",
      "Processing Record 335 | tommot,ru\n",
      "Processing Record 336 | san pedro,ar\n",
      "Processing Record 337 | anniston,us\n",
      "Processing Record 338 | tank,pk\n",
      "Processing Record 339 | mecca,sa\n",
      "Processing Record 340 | gustavo diaz ordaz,mx\n",
      "Processing Record 341 | kautokeino,no\n",
      "Processing Record 342 | sibolga,id\n",
      "Processing Record 343 | aylesbury,gb\n",
      "Processing Record 344 | steamboat springs,us\n",
      "Processing Record 345 | saint-philippe,re\n",
      "dzhusaly,kz not found...skipping\n",
      "Processing Record 346 | kogon,uz\n",
      "Processing Record 347 | caledonia,us\n",
      "Processing Record 348 | tekeli,kz\n",
      "Processing Record 349 | kawalu,id\n",
      "Processing Record 350 | berlevag,no\n",
      "Processing Record 351 | coihaique,cl\n",
      "Processing Record 352 | beloha,mg\n",
      "ambodifototra,mg not found...skipping\n",
      "Processing Record 353 | victoria point,au\n",
      "Processing Record 354 | san miguel acatan,gt\n",
      "Processing Record 355 | los llanos de aridane,es\n",
      "Processing Record 356 | berdigestyakh,ru\n",
      "Processing Record 357 | porbandar,in\n",
      "Processing Record 358 | lampa,cl\n",
      "Processing Record 359 | katiola,ci\n",
      "Processing Record 360 | shubarshi,kz\n",
      "Processing Record 361 | fairbanks,us\n",
      "Processing Record 362 | basoko,cd\n",
      "Processing Record 363 | arua,ug\n",
      "Processing Record 364 | ciudad bolivar,ve\n",
      "Processing Record 365 | saint-pierre,pm\n",
      "Processing Record 366 | nanakuli,us\n",
      "Processing Record 367 | tonekabon,ir\n",
      "Processing Record 368 | mnogovershinnyy,ru\n",
      "Processing Record 369 | flinders,au\n",
      "Processing Record 370 | port blair,in\n",
      "Processing Record 371 | muscat,om\n",
      "Processing Record 372 | finschhafen,pg\n",
      "Processing Record 373 | moree,au\n",
      "Processing Record 374 | manta,ec\n",
      "Processing Record 375 | sitia,gr\n",
      "Processing Record 376 | zhanaozen,kz\n",
      "Processing Record 377 | sioux lookout,ca\n",
      "karamea,nz not found...skipping\n",
      "Processing Record 378 | mana,gf\n",
      "Processing Record 379 | inongo,cd\n",
      "Processing Record 380 | swellendam,za\n",
      "abu samrah,qa not found...skipping\n",
      "Processing Record 381 | takoradi,gh\n",
      "Processing Record 382 | zhaotong,cn\n",
      "Processing Record 383 | carutapera,br\n",
      "Processing Record 384 | vostok,ru\n",
      "Processing Record 385 | lagos,pt\n",
      "Processing Record 386 | burgthann,de\n",
      "Processing Record 387 | arraial do cabo,br\n",
      "Processing Record 388 | yarim,ye\n",
      "Processing Record 389 | yingcheng,cn\n",
      "Processing Record 390 | limon,cr\n",
      "Processing Record 391 | arman,ru\n",
      "Processing Record 392 | bilma,ne\n",
      "Processing Record 393 | horsham,au\n",
      "Processing Record 394 | cayenne,gf\n",
      "Processing Record 395 | aksarka,ru\n",
      "Processing Record 396 | acapulco,mx\n",
      "Processing Record 397 | laguna,br\n",
      "Processing Record 398 | ejido,ve\n",
      "Processing Record 399 | talcahuano,cl\n",
      "Processing Record 400 | havre-saint-pierre,ca\n",
      "Processing Record 401 | kulotino,ru\n",
      "Processing Record 402 | agdas,az\n",
      "Processing Record 403 | hirara,jp\n",
      "Processing Record 404 | kulhudhuffushi,mv\n"
     ]
    },
    {
     "name": "stdout",
     "output_type": "stream",
     "text": [
      "Processing Record 405 | gilroy,us\n",
      "Processing Record 406 | kushmurun,kz\n",
      "Processing Record 407 | ahtopol,bg\n",
      "Processing Record 408 | ouallam,ne\n",
      "Processing Record 409 | kushima,jp\n",
      "Processing Record 410 | seredka,ru\n",
      "Processing Record 411 | san patricio,mx\n",
      "Processing Record 412 | pitimbu,br\n",
      "santa eulalia del rio,es not found...skipping\n",
      "Processing Record 413 | bayeux,fr\n",
      "Processing Record 414 | bjornevatn,no\n",
      "Processing Record 415 | baykit,ru\n",
      "Processing Record 416 | tautira,pf\n",
      "Processing Record 417 | sohagpur,in\n",
      "Processing Record 418 | buzmeyin,tm\n",
      "Processing Record 419 | nanae,jp\n",
      "Processing Record 420 | oxapampa,pe\n",
      "Processing Record 421 | novo mesto,si\n",
      "Processing Record 422 | callaguip,ph\n",
      "Processing Record 423 | pandan,ph\n",
      "falealupo,ws not found...skipping\n",
      "dolbeau,ca not found...skipping\n",
      "Processing Record 424 | mandali,iq\n",
      "qurayyat,om not found...skipping\n",
      "Processing Record 425 | evensk,ru\n",
      "Processing Record 426 | camacha,pt\n",
      "Processing Record 427 | dejen,et\n",
      "Processing Record 428 | muros,es\n",
      "Processing Record 429 | taksimo,ru\n",
      "Processing Record 430 | dingle,ie\n",
      "Processing Record 431 | ouahigouya,bf\n",
      "marzuq,ly not found...skipping\n",
      "Processing Record 432 | seoul,kr\n",
      "Processing Record 433 | chapais,ca\n",
      "Processing Record 434 | cacapava do sul,br\n",
      "sogdiondon,ru not found...skipping\n",
      "Processing Record 435 | chumikan,ru\n",
      "Processing Record 436 | teahupoo,pf\n",
      "Processing Record 437 | mongoumba,cf\n",
      "Processing Record 438 | tias,es\n",
      "Processing Record 439 | pangoa,pe\n",
      "Processing Record 440 | sao joao da barra,br\n",
      "Processing Record 441 | vestmanna,fo\n",
      "Processing Record 442 | great yarmouth,gb\n",
      "Processing Record 443 | aba,ng\n",
      "Processing Record 444 | korla,cn\n",
      "Processing Record 445 | praya,id\n",
      "Processing Record 446 | batsfjord,no\n",
      "Processing Record 447 | san ignacio,pe\n",
      "Processing Record 448 | batouri,cm\n",
      "Processing Record 449 | kyaikkami,mm\n",
      "Processing Record 450 | tiksi,ru\n",
      "Processing Record 451 | lexington,us\n",
      "Processing Record 452 | arrecife,es\n",
      "Processing Record 453 | henties bay,na\n",
      "Processing Record 454 | kushiro,jp\n",
      "Processing Record 455 | pacific grove,us\n",
      "Processing Record 456 | at-bashi,kg\n",
      "Processing Record 457 | port macquarie,au\n",
      "Processing Record 458 | deputatskiy,ru\n",
      "Processing Record 459 | yinchuan,cn\n",
      "Processing Record 460 | tazovskiy,ru\n",
      "Processing Record 461 | naryan-mar,ru\n",
      "bolungarvik,is not found...skipping\n",
      "Processing Record 462 | ust-tsilma,ru\n",
      "Processing Record 463 | berasia,in\n",
      "Processing Record 464 | mae hong son,th\n",
      "Processing Record 465 | clyde river,ca\n",
      "Processing Record 466 | ko samui,th\n",
      "Processing Record 467 | arona,es\n",
      "Processing Record 468 | bafoulabe,ml\n",
      "Processing Record 469 | turukhansk,ru\n",
      "Processing Record 470 | isla mujeres,mx\n",
      "Processing Record 471 | khandbari,np\n",
      "Processing Record 472 | margate,za\n",
      "Processing Record 473 | beitbridge,zw\n",
      "Processing Record 474 | niquero,cu\n",
      "ngukurr,au not found...skipping\n",
      "Processing Record 475 | davila,ph\n",
      "Processing Record 476 | bubaque,gw\n",
      "Processing Record 477 | tatawin,tn\n",
      "Processing Record 478 | narsaq,gl\n",
      "Processing Record 479 | maravilha,br\n",
      "Processing Record 480 | lao cai,vn\n",
      "Processing Record 481 | kizner,ru\n",
      "Processing Record 482 | olafsvik,is\n",
      "Processing Record 483 | tocopilla,cl\n",
      "Processing Record 484 | beringovskiy,ru\n",
      "Processing Record 485 | caiaponia,br\n",
      "Processing Record 486 | te anau,nz\n",
      "Processing Record 487 | kesova gora,ru\n",
      "Processing Record 488 | bojnurd,ir\n",
      "Processing Record 489 | richards bay,za\n",
      "Processing Record 490 | teguise,es\n",
      "Processing Record 491 | oussouye,sn\n",
      "Processing Record 492 | attendorn,de\n",
      "Processing Record 493 | bayji,iq\n",
      "Processing Record 494 | bonavista,ca\n",
      "Processing Record 495 | mokhsogollokh,ru\n",
      "Processing Record 496 | mehamn,no\n",
      "Processing Record 497 | maun,bw\n",
      "Processing Record 498 | sjenica,rs\n",
      "khani,ru not found...skipping\n",
      "Processing Record 499 | dawlatabad,af\n",
      "Processing Record 500 | mazamari,pe\n",
      "puerto cortes,hn not found...skipping\n",
      "Processing Record 501 | les cayes,ht\n",
      "Processing Record 502 | salym,ru\n",
      "Processing Record 503 | kruisfontein,za\n",
      "cagayan de tawi-tawi,ph not found...skipping\n",
      "Processing Record 504 | vila do maio,cv\n",
      "Processing Record 505 | paracuru,br\n",
      "Processing Record 506 | pacifica,us\n",
      "Processing Record 507 | hanmer springs,nz\n",
      "Processing Record 508 | aberdeen,us\n",
      "buin,pg not found...skipping\n",
      "paucartambo,pe not found...skipping\n",
      "Processing Record 509 | bam,ir\n",
      "Processing Record 510 | lompoc,us\n",
      "Processing Record 511 | kirakira,sb\n",
      "Processing Record 512 | ayan,ru\n",
      "Processing Record 513 | chakrata,in\n",
      "Processing Record 514 | roma,au\n",
      "Processing Record 515 | griffith,au\n",
      "Processing Record 516 | kaeo,nz\n",
      "Processing Record 517 | nanortalik,gl\n",
      "Processing Record 518 | iqaluit,ca\n",
      "Processing Record 519 | boyuibe,bo\n",
      "Processing Record 520 | bridlington,gb\n",
      "Processing Record 521 | marsh harbour,bs\n",
      "Processing Record 522 | berea,us\n",
      "burica,pa not found...skipping\n",
      "Processing Record 523 | nara,ml\n",
      "Processing Record 524 | usinsk,ru\n",
      "Processing Record 525 | tara,ru\n",
      "Processing Record 526 | codajas,br\n",
      "Processing Record 527 | antalaha,mg\n",
      "lasa,cn not found...skipping\n",
      "Processing Record 528 | kashi,cn\n",
      "Processing Record 529 | bad wildungen,de\n",
      "Processing Record 530 | malazgirt,tr\n",
      "Processing Record 531 | okato,nz\n",
      "Processing Record 532 | hasaki,jp\n",
      "Processing Record 533 | lavrentiya,ru\n",
      "Processing Record 534 | nosy varika,mg\n",
      "Processing Record 535 | tokur,ru\n",
      "Processing Record 536 | palenque,mx\n",
      "Processing Record 537 | darnah,ly\n",
      "Processing Record 538 | tezu,in\n",
      "Processing Record 539 | balad,iq\n",
      "Processing Record 540 | opuwo,na\n",
      "eldikan,ru not found...skipping\n",
      "Processing Record 541 | lisakovsk,kz\n",
      "Processing Record 542 | san andres,co\n",
      "Processing Record 543 | baiyin,cn\n",
      "Processing Record 544 | krasnoselkup,ru\n",
      "Processing Record 545 | camana,pe\n",
      "Processing Record 546 | corner brook,ca\n",
      "Processing Record 547 | mafinga,tz\n",
      "Processing Record 548 | makakilo city,us\n",
      "Processing Record 549 | coquimbo,cl\n",
      "Processing Record 550 | luderitz,na\n",
      "Processing Record 551 | dumas,us\n",
      "Processing Record 552 | thinadhoo,mv\n",
      "Processing Record 553 | lazaro cardenas,mx\n",
      "Processing Record 554 | novobureyskiy,ru\n",
      "--------------------------------\n",
      "Data Retrieval Complete\n",
      "--------------------------------\n"
     ]
    }
   ],
   "source": [
    "#adding columns to the clean dataframe\n",
    "city_list_clean[\"Max Temp\"] = \"\"\n",
    "city_list_clean[\"Humidity\"] = \"\"\n",
    "city_list_clean[\"Cloudiness\"] = \"\"\n",
    "city_list_clean[\"Wind Speed\"] = \"\"\n",
    "city_list_clean[\"Country\"] = \"\"\n",
    "city_list_clean[\"Date\"] = \"\"          \n",
    "\n",
    "#sets url for openweathermap api to make it neater during the loop\n",
    "url = \"http://api.openweathermap.org/data/2.5/weather?\"\n",
    "\n",
    "#sets the units to be imperial for the data retrieved in the API. Imperial will give us fahrenheit\n",
    "units = \"imperial\"\n",
    "\n",
    "#combines the url, units and api key\n",
    "query_url = f\"{url}appid={weather_api_key}&units={units}&q=\"\n",
    "\n",
    "#prints a heading to make it look nice\n",
    "print(\"Beginnning Data Retrieval\")\n",
    "print(\"--------------------------------\")\n",
    "\n",
    "#creats a variable to be used to count the records\n",
    "record = 1\n",
    "\n",
    "#for loop with iterrows so it loops through the rows one at a time \n",
    "#also uses the index to set the row as a series so we can add to the row\n",
    "for index, row in city_list_clean.iterrows():\n",
    "    \n",
    "#combines City Name and Country Code to \n",
    "    name = row[\"City Name\"] + \",\" + row[\"Country Code\"]\n",
    "    \n",
    "#collects the data from the API using the query url from above and using name to search as .json\n",
    "    response = requests.get(query_url + name).json()\n",
    "\n",
    "#creates an exception if it cannot find the country. if it does adds the necessary rows\n",
    "    try:\n",
    "        city_list_clean.loc[index, \"Long\"] = response['coord']['lon']\n",
    "        city_list_clean.loc[index, \"Lat\"] = response['coord']['lat']\n",
    "        city_list_clean.loc[index, \"Max Temp\"] = response['main']['temp_max']\n",
    "        city_list_clean.loc[index, \"Humidity\"] = response['main']['humidity']\n",
    "        city_list_clean.loc[index, \"Cloudiness\"] = response['clouds']['all']\n",
    "        city_list_clean.loc[index, \"Wind Speed\"] = response['wind']['speed']\n",
    "        city_list_clean.loc[index, \"Country\"] = response['sys']['country']\n",
    "        city_list_clean.loc[index, \"Date\"] = response['dt']\n",
    "        \n",
    "        print(f\"Processing Record {record} | {name}\")\n",
    "\n",
    "#adds one to the record for the next row\n",
    "        record += 1\n",
    "        \n",
    "    except:\n",
    "        \n",
    "        print(f\"{name} not found...skipping\")\n",
    "        \n",
    "#prints a completion message once the loop is finished        \n",
    "print(\"--------------------------------\")          \n",
    "print(\"Data Retrieval Complete\")  \n",
    "print(\"--------------------------------\")"
   ]
  },
  {
   "cell_type": "markdown",
   "metadata": {},
   "source": [
    "### Convert Raw Data to DataFrame\n",
    "* Export the city data into a .csv.\n",
    "* Display the DataFrame"
   ]
  },
  {
   "cell_type": "code",
   "execution_count": 8,
   "metadata": {},
   "outputs": [
    {
     "data": {
      "text/plain": [
       "City Name       621\n",
       "Lat             621\n",
       "Long            621\n",
       "Country Code    621\n",
       "Max Temp        554\n",
       "Humidity        554\n",
       "Cloudiness      554\n",
       "Wind Speed      554\n",
       "Country         554\n",
       "Date            554\n",
       "dtype: int64"
      ]
     },
     "execution_count": 8,
     "metadata": {},
     "output_type": "execute_result"
    }
   ],
   "source": [
    "#replaces any blank rows with Null (nan)\n",
    "city_list_clean.replace(\"\", np.nan, inplace = True)\n",
    "#provides a count of the columns for comparions\n",
    "city_list_clean.count()"
   ]
  },
  {
   "cell_type": "code",
   "execution_count": 9,
   "metadata": {},
   "outputs": [],
   "source": [
    "#drops the columns with null values\n",
    "city_weather = city_list_clean.dropna()"
   ]
  },
  {
   "cell_type": "code",
   "execution_count": 10,
   "metadata": {},
   "outputs": [
    {
     "data": {
      "text/plain": [
       "City Name       554\n",
       "Lat             554\n",
       "Long            554\n",
       "Country Code    554\n",
       "Max Temp        554\n",
       "Humidity        554\n",
       "Cloudiness      554\n",
       "Wind Speed      554\n",
       "Country         554\n",
       "Date            554\n",
       "dtype: int64"
      ]
     },
     "execution_count": 10,
     "metadata": {},
     "output_type": "execute_result"
    }
   ],
   "source": [
    "#another count to compare above\n",
    "city_weather.count()"
   ]
  },
  {
   "cell_type": "code",
   "execution_count": 11,
   "metadata": {},
   "outputs": [],
   "source": [
    "#rests the index and saves\n",
    "city_weather.reset_index(inplace = True)\n",
    "\n",
    "#drops the index and the Country Code as it is a duplicate of the Country column\n",
    "city_weather_final = city_weather.drop([\"index\", \"Country Code\"], axis = 1)\n",
    "\n",
    "#makes the first letter of each word within the City Name category capital to make it look nicer\n",
    "city_weather_final[\"City Name\"] = city_weather_final[\"City Name\"].str.title()\n",
    "\n",
    "#saves the dataframe to a csv\n",
    "city_weather_final.to_csv(\"../Data/city_weather.csv\")"
   ]
  },
  {
   "cell_type": "markdown",
   "metadata": {},
   "source": [
    "## Inspect the data and remove the cities where the humidity > 100%.\n",
    "----\n",
    "Skip this step if there are no cities that have humidity > 100%. "
   ]
  },
  {
   "cell_type": "code",
   "execution_count": 12,
   "metadata": {},
   "outputs": [
    {
     "data": {
      "text/html": [
       "<div>\n",
       "<style scoped>\n",
       "    .dataframe tbody tr th:only-of-type {\n",
       "        vertical-align: middle;\n",
       "    }\n",
       "\n",
       "    .dataframe tbody tr th {\n",
       "        vertical-align: top;\n",
       "    }\n",
       "\n",
       "    .dataframe thead th {\n",
       "        text-align: right;\n",
       "    }\n",
       "</style>\n",
       "<table border=\"1\" class=\"dataframe\">\n",
       "  <thead>\n",
       "    <tr style=\"text-align: right;\">\n",
       "      <th></th>\n",
       "      <th>index</th>\n",
       "      <th>City Name</th>\n",
       "      <th>Lat</th>\n",
       "      <th>Long</th>\n",
       "      <th>Country Code</th>\n",
       "      <th>Max Temp</th>\n",
       "      <th>Humidity</th>\n",
       "      <th>Cloudiness</th>\n",
       "      <th>Wind Speed</th>\n",
       "      <th>Country</th>\n",
       "      <th>Date</th>\n",
       "    </tr>\n",
       "  </thead>\n",
       "  <tbody>\n",
       "  </tbody>\n",
       "</table>\n",
       "</div>"
      ],
      "text/plain": [
       "Empty DataFrame\n",
       "Columns: [index, City Name, Lat, Long, Country Code, Max Temp, Humidity, Cloudiness, Wind Speed, Country, Date]\n",
       "Index: []"
      ]
     },
     "execution_count": 12,
     "metadata": {},
     "output_type": "execute_result"
    }
   ],
   "source": [
    "#doesn't look like there are any cities with humidity > 100\n",
    "high_humidity = city_weather.loc[city_weather[\"Humidity\"] > 100]\n",
    "high_humidity"
   ]
  },
  {
   "cell_type": "code",
   "execution_count": 13,
   "metadata": {},
   "outputs": [],
   "source": [
    "#  Get the indices of cities that have humidity over 100%.\n",
    "#null"
   ]
  },
  {
   "cell_type": "code",
   "execution_count": 14,
   "metadata": {},
   "outputs": [],
   "source": [
    "# Make a new DataFrame equal to the city data to drop all humidity outliers by index.\n",
    "# Passing \"inplace=False\" will make a copy of the city_data DataFrame, which we call \"clean_city_data\".\n",
    "#null"
   ]
  },
  {
   "cell_type": "code",
   "execution_count": 15,
   "metadata": {},
   "outputs": [
    {
     "data": {
      "text/html": [
       "<div>\n",
       "<style scoped>\n",
       "    .dataframe tbody tr th:only-of-type {\n",
       "        vertical-align: middle;\n",
       "    }\n",
       "\n",
       "    .dataframe tbody tr th {\n",
       "        vertical-align: top;\n",
       "    }\n",
       "\n",
       "    .dataframe thead th {\n",
       "        text-align: right;\n",
       "    }\n",
       "</style>\n",
       "<table border=\"1\" class=\"dataframe\">\n",
       "  <thead>\n",
       "    <tr style=\"text-align: right;\">\n",
       "      <th></th>\n",
       "      <th>City Name</th>\n",
       "      <th>Lat</th>\n",
       "      <th>Long</th>\n",
       "      <th>Max Temp</th>\n",
       "      <th>Humidity</th>\n",
       "      <th>Cloudiness</th>\n",
       "      <th>Wind Speed</th>\n",
       "      <th>Country</th>\n",
       "      <th>Date</th>\n",
       "    </tr>\n",
       "  </thead>\n",
       "  <tbody>\n",
       "    <tr>\n",
       "      <th>0</th>\n",
       "      <td>Lumeje</td>\n",
       "      <td>-11.55</td>\n",
       "      <td>20.78</td>\n",
       "      <td>70.30</td>\n",
       "      <td>66.0</td>\n",
       "      <td>0.0</td>\n",
       "      <td>6.76</td>\n",
       "      <td>AO</td>\n",
       "      <td>1.601700e+09</td>\n",
       "    </tr>\n",
       "    <tr>\n",
       "      <th>1</th>\n",
       "      <td>Sawakin</td>\n",
       "      <td>19.11</td>\n",
       "      <td>37.33</td>\n",
       "      <td>86.18</td>\n",
       "      <td>62.0</td>\n",
       "      <td>0.0</td>\n",
       "      <td>4.54</td>\n",
       "      <td>SD</td>\n",
       "      <td>1.601700e+09</td>\n",
       "    </tr>\n",
       "    <tr>\n",
       "      <th>2</th>\n",
       "      <td>Rikitea</td>\n",
       "      <td>-23.12</td>\n",
       "      <td>-134.97</td>\n",
       "      <td>73.13</td>\n",
       "      <td>79.0</td>\n",
       "      <td>3.0</td>\n",
       "      <td>15.64</td>\n",
       "      <td>PF</td>\n",
       "      <td>1.601700e+09</td>\n",
       "    </tr>\n",
       "    <tr>\n",
       "      <th>3</th>\n",
       "      <td>Bethel</td>\n",
       "      <td>41.37</td>\n",
       "      <td>-73.41</td>\n",
       "      <td>46.99</td>\n",
       "      <td>93.0</td>\n",
       "      <td>1.0</td>\n",
       "      <td>4.70</td>\n",
       "      <td>US</td>\n",
       "      <td>1.601700e+09</td>\n",
       "    </tr>\n",
       "    <tr>\n",
       "      <th>4</th>\n",
       "      <td>Yellowknife</td>\n",
       "      <td>62.46</td>\n",
       "      <td>-114.35</td>\n",
       "      <td>41.00</td>\n",
       "      <td>93.0</td>\n",
       "      <td>40.0</td>\n",
       "      <td>5.82</td>\n",
       "      <td>CA</td>\n",
       "      <td>1.601700e+09</td>\n",
       "    </tr>\n",
       "  </tbody>\n",
       "</table>\n",
       "</div>"
      ],
      "text/plain": [
       "     City Name    Lat    Long  Max Temp  Humidity  Cloudiness  Wind Speed  \\\n",
       "0       Lumeje -11.55   20.78     70.30      66.0         0.0        6.76   \n",
       "1      Sawakin  19.11   37.33     86.18      62.0         0.0        4.54   \n",
       "2      Rikitea -23.12 -134.97     73.13      79.0         3.0       15.64   \n",
       "3       Bethel  41.37  -73.41     46.99      93.0         1.0        4.70   \n",
       "4  Yellowknife  62.46 -114.35     41.00      93.0        40.0        5.82   \n",
       "\n",
       "  Country          Date  \n",
       "0      AO  1.601700e+09  \n",
       "1      SD  1.601700e+09  \n",
       "2      PF  1.601700e+09  \n",
       "3      US  1.601700e+09  \n",
       "4      CA  1.601700e+09  "
      ]
     },
     "execution_count": 15,
     "metadata": {},
     "output_type": "execute_result"
    }
   ],
   "source": [
    "#retrieves the data from the csv, selects the first column as index\n",
    "city_data = pd.read_csv(\"../Data/city_weather.csv\", index_col = 0)\n",
    "city_data.head()"
   ]
  },
  {
   "cell_type": "code",
   "execution_count": 16,
   "metadata": {},
   "outputs": [
    {
     "data": {
      "text/plain": [
       "'03/10/2020'"
      ]
     },
     "execution_count": 16,
     "metadata": {},
     "output_type": "execute_result"
    }
   ],
   "source": [
    "#sets the current date of when this cell was run\n",
    "current = datetime.datetime.now().strftime(\"%d/%m/%Y\")\n",
    "\n",
    "#check to see if the date is correct\n",
    "current"
   ]
  },
  {
   "cell_type": "markdown",
   "metadata": {},
   "source": [
    "## Plotting the Data\n",
    "* Use proper labeling of the plots using plot titles (including date of analysis) and axes labels.\n",
    "* Save the plotted figures as .pngs."
   ]
  },
  {
   "cell_type": "markdown",
   "metadata": {},
   "source": [
    "## Latitude vs. Temperature Plot"
   ]
  },
  {
   "cell_type": "code",
   "execution_count": 17,
   "metadata": {
    "scrolled": true
   },
   "outputs": [
    {
     "data": {
      "image/png": "[encoded data removed]",
      "text/plain": [
       "<Figure size 432x288 with 1 Axes>"
      ]
     },
     "metadata": {
      "needs_background": "light"
     },
     "output_type": "display_data"
    }
   ],
   "source": [
    "#sets x and y values\n",
    "x_values = city_data['Lat']\n",
    "y_values = city_data['Max Temp']\n",
    "\n",
    "#plots the scatter plot\n",
    "plt.scatter(x_values,y_values)\n",
    "\n",
    "#plots the x and y label and title (including the date of anlysis)\n",
    "plt.xlabel('Latitude')\n",
    "plt.ylabel('Max Temperature (F)')\n",
    "plt.xlim(-85,85)\n",
    "plt.ylim(10, 120)\n",
    "plt.title(f\"Latitude vs Temperature (F) at {current}\")\n",
    "plt.grid()\n",
    "\n",
    "#saves the plot as a png\n",
    "plt.savefig(\"Plot Images/Latitude vs Temperature.png\")\n",
    "\n",
    "plt.show()"
   ]
  },
  {
   "cell_type": "markdown",
   "metadata": {},
   "source": [
    "## Latitude vs. Humidity Plot"
   ]
  },
  {
   "cell_type": "code",
   "execution_count": 30,
   "metadata": {},
   "outputs": [
    {
     "data": {
      "image/png": "[encoded data removed]",
      "text/plain": [
       "<Figure size 432x288 with 1 Axes>"
      ]
     },
     "metadata": {
      "needs_background": "light"
     },
     "output_type": "display_data"
    }
   ],
   "source": [
    "#sets x and y values\n",
    "x_values = city_data['Lat']\n",
    "y_values = city_data['Humidity']\n",
    "\n",
    "#plots the scatter plot\n",
    "plt.scatter(x_values, y_values)\n",
    "\n",
    "#plots the x and y label and title (including the date and time of analysis)\n",
    "plt.xlabel('Latitude')\n",
    "plt.ylabel('Humidity (%)')\n",
    "plt.title(f\"Latitude vs Humidity (%) at {current}\")\n",
    "plt.grid()\n",
    "\n",
    "#saves the plot as a png\n",
    "plt.savefig(\"Plot Images/Latitude vs Humidity.png\")\n",
    "\n",
    "plt.show()"
   ]
  },
  {
   "cell_type": "markdown",
   "metadata": {},
   "source": [
    "## Latitude vs. Cloudiness Plot"
   ]
  },
  {
   "cell_type": "code",
   "execution_count": 31,
   "metadata": {},
   "outputs": [
    {
     "data": {
      "image/png": "[encoded data removed]",
      "text/plain": [
       "<Figure size 432x288 with 1 Axes>"
      ]
     },
     "metadata": {
      "needs_background": "light"
     },
     "output_type": "display_data"
    }
   ],
   "source": [
    "#sets x and y values\n",
    "x_values = city_data['Lat']\n",
    "y_values = city_data['Cloudiness']\n",
    "\n",
    "#plots the scatter plot\n",
    "plt.scatter(x_values,y_values)\n",
    "\n",
    "#plots the x and y label and title (including the date and time of analysis)\n",
    "plt.xlabel('Latitude')\n",
    "plt.ylabel('Cloudiness (%)')\n",
    "plt.title(f\"Latitude vs Cloudiness (%) at {current}\")\n",
    "plt.grid()\n",
    "\n",
    "#saves the plot as a png\n",
    "plt.savefig(\"Plot Images/Latitude vs Cloudiness.png\")\n",
    "\n",
    "plt.show()"
   ]
  },
  {
   "cell_type": "markdown",
   "metadata": {},
   "source": [
    "## Latitude vs. Wind Speed Plot"
   ]
  },
  {
   "cell_type": "code",
   "execution_count": 32,
   "metadata": {},
   "outputs": [
    {
     "data": {
      "image/png": "[encoded data removed]",
      "text/plain": [
       "<Figure size 432x288 with 1 Axes>"
      ]
     },
     "metadata": {
      "needs_background": "light"
     },
     "output_type": "display_data"
    }
   ],
   "source": [
    "#sets x and y values\n",
    "x_values = city_data['Lat']\n",
    "y_values = city_data['Wind Speed']\n",
    "\n",
    "#plots the scatter plot\n",
    "plt.scatter(x_values,y_values)\n",
    "\n",
    "#plots the x and y label and title (including the date and time of analysis)\n",
    "plt.xlabel('Latitude')\n",
    "plt.ylabel('Wind Speed (mph)')\n",
    "plt.title(f\"Latitude vs Wind Speed at {current}\")\n",
    "plt.grid()\n",
    "\n",
    "#saves the plot as a png\n",
    "plt.savefig(\"Plot Images/Latitude vs Wind Speed.png\")\n",
    "plt.show()"
   ]
  },
  {
   "cell_type": "markdown",
   "metadata": {},
   "source": [
    "## Linear Regression"
   ]
  },
  {
   "cell_type": "code",
   "execution_count": 33,
   "metadata": {},
   "outputs": [],
   "source": [
    "#northern hemisphere data by filtering the latitude to 0+\n",
    "nrth_city_data = city_data.loc[city_data['Lat'] >= 0]\n",
    "\n",
    "#southern hemisphere data by filtering the latitude to 0+\n",
    "sth_city_data = city_data.loc[city_data['Lat'] < 0]"
   ]
  },
  {
   "cell_type": "markdown",
   "metadata": {},
   "source": [
    "####  Northern Hemisphere - Max Temp vs. Latitude Linear Regression"
   ]
  },
  {
   "cell_type": "code",
   "execution_count": 34,
   "metadata": {},
   "outputs": [
    {
     "data": {
      "image/png": "[encoded data removed]",
      "text/plain": [
       "<Figure size 432x288 with 1 Axes>"
      ]
     },
     "metadata": {
      "needs_background": "light"
     },
     "output_type": "display_data"
    },
    {
     "name": "stdout",
     "output_type": "stream",
     "text": [
      "The correlation between Max Temp (F) and Latitude for Nth Hem is -0.85\n"
     ]
    }
   ],
   "source": [
    "#sets x and y values\n",
    "x_values = nrth_city_data['Lat']\n",
    "y_values = nrth_city_data['Max Temp']\n",
    "\n",
    "#calculates the correlation coefficient\n",
    "correlation = sts.pearsonr(x_values, y_values)\n",
    "\n",
    "#calculates the linear regression and linear equation\n",
    "(slope, intercept, rvalue, pvalue, stderr) = linregress(x_values, y_values)\n",
    "regress_values = x_values * slope + intercept\n",
    "line_eq = \"y = \" + str(round(slope,2)) + \"x + \" + str(round(intercept,2))\n",
    "\n",
    "#plots the scatter plot\n",
    "plt.scatter(x_values,y_values)\n",
    "\n",
    "#plots the linear regression line\n",
    "plt.plot(x_values,regress_values,\"r-\")\n",
    "\n",
    "#plots the linear equation\n",
    "plt.annotate(line_eq, (80,100), fontsize=15, color=\"red\")\n",
    "\n",
    "#plots the x and y label and title (including the date and time of analysis)\n",
    "plt.xlabel('Latitude')\n",
    "plt.ylabel('Max Temperature (F)')\n",
    "plt.title(f\"Nth Hem: Max Temp vs Latitude at {current}\")\n",
    "plt.grid()\n",
    "\n",
    "plt.show()\n",
    "\n",
    "#displays the correlation coefficient\n",
    "print(f\"The correlation between Max Temp (F) and Latitude for Nth Hem is {round(correlation[0],2)}\")"
   ]
  },
  {
   "cell_type": "markdown",
   "metadata": {},
   "source": [
    "### Analysis\n",
    "\n",
    "With a correlation coefficient of -0.85, there is a negative strong correlation between Max Temp (F) and Latitiude for Northern Hemisphere. The closer to 0 degrees of Latitude, the warmer the temperature will be majority of the time."
   ]
  },
  {
   "cell_type": "markdown",
   "metadata": {},
   "source": [
    "####  Southern Hemisphere - Max Temp vs. Latitude Linear Regression"
   ]
  },
  {
   "cell_type": "code",
   "execution_count": 35,
   "metadata": {},
   "outputs": [
    {
     "data": {
      "image/png": "[encoded data removed]",
      "text/plain": [
       "<Figure size 432x288 with 1 Axes>"
      ]
     },
     "metadata": {
      "needs_background": "light"
     },
     "output_type": "display_data"
    },
    {
     "name": "stdout",
     "output_type": "stream",
     "text": [
      "The correlation between Max Temp (F) and Latitude for Sth Hem is 0.57\n"
     ]
    }
   ],
   "source": [
    "#sets x and y values\n",
    "x_values = sth_city_data['Lat']\n",
    "y_values = sth_city_data['Max Temp']\n",
    "\n",
    "#calculates the correlation coefficient\n",
    "correlation = sts.pearsonr(x_values, y_values)\n",
    "\n",
    "#calculates the linear regression and linear equation\n",
    "(slope, intercept, rvalue, pvalue, stderr) = linregress(x_values, y_values)\n",
    "regress_values = x_values * slope + intercept\n",
    "line_eq = \"y = \" + str(round(slope,2)) + \"x + \" + str(round(intercept,2))\n",
    "\n",
    "\n",
    "#plots the scatter plot\n",
    "plt.scatter(x_values,y_values)\n",
    "\n",
    "#plots the linear regression line\n",
    "plt.plot(x_values,regress_values,\"r-\")\n",
    "\n",
    "#plots the linear equation\n",
    "plt.annotate(line_eq, (0,100), fontsize=15, color=\"red\")\n",
    "\n",
    "#plots the x and y label and title (including the date and time of analysis)\n",
    "plt.xlabel('Latitude')\n",
    "plt.ylabel('Max Temperature (F)')\n",
    "plt.title(f\"Sth Hem: Max Temp vs Latitude at {current}\")\n",
    "plt.grid()\n",
    "\n",
    "plt.show()\n",
    "\n",
    "#displays the correlation coefficient\n",
    "print(f\"The correlation between Max Temp (F) and Latitude for Sth Hem is {round(correlation[0],2)}\")"
   ]
  },
  {
   "cell_type": "markdown",
   "metadata": {},
   "source": [
    "### Analysis\n",
    "\n",
    "With a correlation coefficient of 0.57, there is a positive moderate strength correlation between Max Temp (F) and Latitiude for Southern Hemisphere. The closer to 0 degrees of Latitude, the warmer the temperature will be most of the time."
   ]
  },
  {
   "cell_type": "markdown",
   "metadata": {},
   "source": [
    "####  Northern Hemisphere - Humidity (%) vs. Latitude Linear Regression"
   ]
  },
  {
   "cell_type": "code",
   "execution_count": 36,
   "metadata": {},
   "outputs": [
    {
     "data": {
      "image/png": "[encoded data removed]",
      "text/plain": [
       "<Figure size 432x288 with 1 Axes>"
      ]
     },
     "metadata": {
      "needs_background": "light"
     },
     "output_type": "display_data"
    },
    {
     "name": "stdout",
     "output_type": "stream",
     "text": [
      "The correlation between Humidity (%) and Latitude for Nth Hem is 0.15\n"
     ]
    }
   ],
   "source": [
    "#sets x and y values\n",
    "x_values = nrth_city_data['Lat']\n",
    "y_values = nrth_city_data['Humidity']\n",
    "\n",
    "#calculates the correlation coefficient\n",
    "correlation = sts.pearsonr(x_values, y_values)\n",
    "\n",
    "#calculates the linear regression and linear equation\n",
    "(slope, intercept, rvalue, pvalue, stderr) = linregress(x_values, y_values)\n",
    "regress_values = x_values * slope + intercept\n",
    "line_eq = \"y = \" + str(round(slope,2)) + \"x + \" + str(round(intercept,2))\n",
    "\n",
    "#plots the scatter plot\n",
    "plt.scatter(x_values,y_values)\n",
    "\n",
    "#plots the linear regression line\n",
    "plt.plot(x_values,regress_values,\"r-\")\n",
    "\n",
    "#plots the linear equation\n",
    "plt.annotate(line_eq, (80,20), fontsize=15, color=\"red\")\n",
    "\n",
    "#plots the x and y label and title (including the date and time of analysis)\n",
    "plt.xlabel('Latitude')\n",
    "plt.ylabel('Humidity (%)')\n",
    "plt.title(f\"Nth Hem: Humidity vs Latitude at {current}\")\n",
    "plt.grid()\n",
    "\n",
    "plt.show()\n",
    "\n",
    "#displays the correlation coefficient\n",
    "print(f\"The correlation between Humidity (%) and Latitude for Nth Hem is {round(correlation[0],2)}\")"
   ]
  },
  {
   "cell_type": "markdown",
   "metadata": {},
   "source": [
    "### Analysis\n",
    "\n",
    "With a correlation coefficient of 0.15 there is a very weak positive correlation between Humidity and Latitude for the Northenn Hemisphere."
   ]
  },
  {
   "cell_type": "markdown",
   "metadata": {},
   "source": [
    "####  Southern Hemisphere - Humidity (%) vs. Latitude Linear Regression"
   ]
  },
  {
   "cell_type": "code",
   "execution_count": 37,
   "metadata": {},
   "outputs": [
    {
     "data": {
      "image/png": "[encoded data removed]",
      "text/plain": [
       "<Figure size 432x288 with 1 Axes>"
      ]
     },
     "metadata": {
      "needs_background": "light"
     },
     "output_type": "display_data"
    },
    {
     "name": "stdout",
     "output_type": "stream",
     "text": [
      "The correlation between Humidity (%) and Latitude for Sth Hem is 0.19\n"
     ]
    }
   ],
   "source": [
    "#sets x and y values\n",
    "x_values = sth_city_data['Lat']\n",
    "y_values = sth_city_data['Humidity']\n",
    "\n",
    "#calculates the correlation coefficient\n",
    "correlation = sts.pearsonr(x_values, y_values)\n",
    "\n",
    "#calculates the linear regression and linear equation\n",
    "(slope, intercept, rvalue, pvalue, stderr) = linregress(x_values, y_values)\n",
    "regress_values = x_values * slope + intercept\n",
    "line_eq = \"y = \" + str(round(slope,2)) + \"x + \" + str(round(intercept,2))\n",
    "\n",
    "#plots the scatter plot\n",
    "plt.scatter(x_values,y_values)\n",
    "\n",
    "#plots the linear regression line\n",
    "plt.plot(x_values,regress_values,\"r-\")\n",
    "\n",
    "#plots the linear equation\n",
    "plt.annotate(line_eq, (0,20), fontsize=15, color=\"red\")\n",
    "\n",
    "#plots the x and y label and title (including the date and time of analysis)\n",
    "plt.xlabel('Latitude')\n",
    "plt.ylabel('Humidity (%)')\n",
    "plt.title(f\"Sth Hem: Humidity vs Latitude at {current}\")\n",
    "plt.grid()\n",
    "\n",
    "plt.show()\n",
    "\n",
    "#displays the correlation coefficient\n",
    "print(f\"The correlation between Humidity (%) and Latitude for Sth Hem is {round(correlation[0],2)}\")"
   ]
  },
  {
   "cell_type": "markdown",
   "metadata": {},
   "source": [
    "### Analysis\n",
    "\n",
    "With a correlation coefficient of 0.19 there is a very weak correlation between Humidity and Latitude for the Sourthern. Hemisphere. "
   ]
  },
  {
   "cell_type": "markdown",
   "metadata": {},
   "source": [
    "####  Northern Hemisphere - Cloudiness (%) vs. Latitude Linear Regression"
   ]
  },
  {
   "cell_type": "code",
   "execution_count": 38,
   "metadata": {},
   "outputs": [
    {
     "data": {
      "image/png": "[encoded data removed]",
      "text/plain": [
       "<Figure size 432x288 with 1 Axes>"
      ]
     },
     "metadata": {
      "needs_background": "light"
     },
     "output_type": "display_data"
    },
    {
     "name": "stdout",
     "output_type": "stream",
     "text": [
      "The correlation between Cloudiness (%) and Latitude for Nth Hem is 0.22\n"
     ]
    }
   ],
   "source": [
    "#sets x and y values\n",
    "x_values = nrth_city_data['Lat']\n",
    "y_values = nrth_city_data['Cloudiness']\n",
    "\n",
    "#calculates the correlation coefficient\n",
    "correlation = sts.pearsonr(x_values, y_values)\n",
    "\n",
    "#calculates the linear regression and linear equation\n",
    "(slope, intercept, rvalue, pvalue, stderr) = linregress(x_values, y_values)\n",
    "regress_values = x_values * slope + intercept\n",
    "line_eq = \"y = \" + str(round(slope,2)) + \"x + \" + str(round(intercept,2))\n",
    "\n",
    "#plots the scatter plot\n",
    "plt.scatter(x_values,y_values)\n",
    "\n",
    "#plots the linear regression line\n",
    "plt.plot(x_values,regress_values,\"r-\")\n",
    "\n",
    "#plots the linear equation\n",
    "plt.annotate(line_eq, (80,60), fontsize=15, color=\"red\")\n",
    "\n",
    "#plots the x and y label and title (including the date and time of analysis)\n",
    "plt.xlabel('Latitude')\n",
    "plt.ylabel('Cloudiness (%)')\n",
    "plt.title(f\"Nth Hem: Cloudiness vs Latitude at {current}\")\n",
    "plt.grid()\n",
    "\n",
    "plt.show()\n",
    "\n",
    "#displays the correlation coefficient\n",
    "print(f\"The correlation between Cloudiness (%) and Latitude for Nth Hem is {round(correlation[0],2)}\")"
   ]
  },
  {
   "cell_type": "markdown",
   "metadata": {},
   "source": [
    "### Analysis\n",
    "\n",
    "With a correlation coefficient of 0.22 there is a very weak positive correlation between Cloudiness and Latitude for the Northern Hemisphere. "
   ]
  },
  {
   "cell_type": "markdown",
   "metadata": {},
   "source": [
    "####  Southern Hemisphere - Cloudiness (%) vs. Latitude Linear Regression"
   ]
  },
  {
   "cell_type": "code",
   "execution_count": 39,
   "metadata": {},
   "outputs": [
    {
     "data": {
      "image/png": "[encoded data removed]",
      "text/plain": [
       "<Figure size 432x288 with 1 Axes>"
      ]
     },
     "metadata": {
      "needs_background": "light"
     },
     "output_type": "display_data"
    },
    {
     "name": "stdout",
     "output_type": "stream",
     "text": [
      "The correlation between Cloudiness (%) and Latitude for Sth Hem is 0.02\n"
     ]
    }
   ],
   "source": [
    "#sets x and y values\n",
    "x_values = sth_city_data['Lat']\n",
    "y_values = sth_city_data['Cloudiness']\n",
    "\n",
    "#calculates the correlation coefficient\n",
    "correlation = sts.pearsonr(x_values, y_values)\n",
    "\n",
    "#calculates the linear regression and linear equation\n",
    "(slope, intercept, rvalue, pvalue, stderr) = linregress(x_values, y_values)\n",
    "regress_values = x_values * slope + intercept\n",
    "line_eq = \"y = \" + str(round(slope,2)) + \"x + \" + str(round(intercept,2))\n",
    "\n",
    "#plots the scatter plot\n",
    "plt.scatter(x_values,y_values)\n",
    "\n",
    "#plots the linear regression line\n",
    "plt.plot(x_values,regress_values,\"r-\")\n",
    "\n",
    "#plots the linear equation\n",
    "plt.annotate(line_eq, (0,90), fontsize=15, color=\"red\")\n",
    "\n",
    "#plots the x and y label and title (including the date and time of analysis)\n",
    "plt.xlabel('Latitude')\n",
    "plt.ylabel('Cloudiness (%)')\n",
    "plt.title(f\"Sth Hem: Cloudiness vs Latitude at {current}\")\n",
    "plt.grid()\n",
    "\n",
    "plt.show()\n",
    "\n",
    "#displays the correlation coefficient\n",
    "print(f\"The correlation between Cloudiness (%) and Latitude for Sth Hem is {round(correlation[0],2)}\")"
   ]
  },
  {
   "cell_type": "markdown",
   "metadata": {},
   "source": [
    "### Analysis\n",
    "\n",
    "With a correlation coefficient of 0.02 there is a very weak positive correlation between Cloudiness and Latitude for the Southern Hemisphere. "
   ]
  },
  {
   "cell_type": "markdown",
   "metadata": {},
   "source": [
    "####  Northern Hemisphere - Wind Speed (mph) vs. Latitude Linear Regression"
   ]
  },
  {
   "cell_type": "code",
   "execution_count": 40,
   "metadata": {
    "scrolled": true
   },
   "outputs": [
    {
     "data": {
      "image/png": "[encoded data removed]",
      "text/plain": [
       "<Figure size 432x288 with 1 Axes>"
      ]
     },
     "metadata": {
      "needs_background": "light"
     },
     "output_type": "display_data"
    },
    {
     "name": "stdout",
     "output_type": "stream",
     "text": [
      "The correlation between Wind Speed and Latitude for Nth Hem is 0.25\n"
     ]
    }
   ],
   "source": [
    "#sets x and y values\n",
    "x_values = nrth_city_data['Lat']\n",
    "y_values = nrth_city_data['Wind Speed']\n",
    "\n",
    "#calculates the correlation coefficient\n",
    "correlation = sts.pearsonr(x_values, y_values)\n",
    "\n",
    "#calculates the linear regression and linear equation\n",
    "(slope, intercept, rvalue, pvalue, stderr) = linregress(x_values, y_values)\n",
    "regress_values = x_values * slope + intercept\n",
    "line_eq = \"y = \" + str(round(slope,2)) + \"x + \" + str(round(intercept,2))\n",
    "\n",
    "#plots the scatter plot\n",
    "plt.scatter(x_values, y_values)\n",
    "\n",
    "#plots the linear regression line\n",
    "plt.plot(x_values,regress_values,\"r-\")\n",
    "\n",
    "#plots the linear equation\n",
    "plt.annotate(line_eq, (80,17), fontsize=15, color=\"red\")\n",
    "\n",
    "#plots the x and y label and title (including the date and time of analysis)\n",
    "plt.xlabel('Latitude')\n",
    "plt.ylabel('Wind Speed (mph)')\n",
    "plt.title(f\"Nth Hem: Wind Speed vs Latitude at {current}\")\n",
    "plt.grid()\n",
    "\n",
    "plt.show()\n",
    "\n",
    "#displays the correlation coefficient\n",
    "print(f\"The correlation between Wind Speed and Latitude for Nth Hem is {round(correlation[0],2)}\")"
   ]
  },
  {
   "cell_type": "markdown",
   "metadata": {},
   "source": [
    "### Analysis\n",
    "\n",
    "With a correlation coefficient of 0.25 there is a weak positive correlation between Wind Speed and Latitude for the Northern Hemisphere. "
   ]
  },
  {
   "cell_type": "markdown",
   "metadata": {},
   "source": [
    "####  Southern Hemisphere - Wind Speed (mph) vs. Latitude Linear Regression"
   ]
  },
  {
   "cell_type": "code",
   "execution_count": 41,
   "metadata": {},
   "outputs": [
    {
     "data": {
      "image/png": "[encoded data removed]",
      "text/plain": [
       "<Figure size 432x288 with 1 Axes>"
      ]
     },
     "metadata": {
      "needs_background": "light"
     },
     "output_type": "display_data"
    },
    {
     "name": "stdout",
     "output_type": "stream",
     "text": [
      "The correlation between Wind Speed and Latitude for Sth Hem is -0.08\n"
     ]
    }
   ],
   "source": [
    "#sets x and y values\n",
    "x_values = sth_city_data['Lat']\n",
    "y_values = sth_city_data['Wind Speed']\n",
    "\n",
    "#calculates the correlation coefficient\n",
    "correlation = sts.pearsonr(x_values, y_values)\n",
    "\n",
    "#calculates the linear regression and linear equation\n",
    "(slope, intercept, rvalue, pvalue, stderr) = linregress(x_values, y_values)\n",
    "regress_values = x_values * slope + intercept\n",
    "line_eq = \"y = \" + str(round(slope,2)) + \"x + \" + str(round(intercept,2))\n",
    "\n",
    "#plots the scatter plot\n",
    "plt.scatter(x_values,y_values)\n",
    "\n",
    "#plots the linear regression line\n",
    "plt.plot(x_values,regress_values,\"r-\")\n",
    "\n",
    "#plots the linear equation\n",
    "plt.annotate(line_eq, (0, 20), fontsize=15, color=\"red\")\n",
    "\n",
    "#plots the x and y label and title (including the date and time of analysis)\n",
    "plt.xlabel('Latitude')\n",
    "plt.ylabel('Wind Speed (mph)')\n",
    "plt.title(f\"Sth Hem: Wind Speed vs Latitude at {current}\")\n",
    "plt.grid()\n",
    "\n",
    "plt.show()\n",
    "\n",
    "#displays the correlation coefficient\n",
    "print(f\"The correlation between Wind Speed and Latitude for Sth Hem is {round(correlation[0],2)}\")"
   ]
  },
  {
   "cell_type": "markdown",
   "metadata": {},
   "source": [
    "### Analysis\n",
    "\n",
    "With a correlation coefficient of -0.08 there is a very weak negative correlation between Wind Speed and Latitude for the Southern Hemisphere. "
   ]
  },
  {
   "cell_type": "markdown",
   "metadata": {},
   "source": [
    "## Three observable trends\n",
    "\n",
    "1. The closer to 0 degress of Latitude (the equator), the warmer the Max Temperature will tend to be.\n",
    "\n",
    "\n",
    "2. There is a very weak correlation between Latitude and Humidity and Cloudiness for both hemispheres. The Northern Hemisphere had a slightly stronger positive correlation for Cloudiness with 0.22 compared to the very weak Southern Hempisphere correlation of 0.02. Both the Northern and Southern Hemisphere had a similar positive weak correlation with Humidity of 0.15 and 0.19 respectively. \n",
    "\n",
    "\n",
    "3. There is a weak correlation between Latitude and Wind Speed, although the Northern Hemisphere had a slightly stronger correlation of 0.25, which indicates a weak positive correlation, compared to the Southern Hemisphere negative correlation of -0.08."
   ]
  }
 ],
 "metadata": {
  "anaconda-cloud": {},
  "kernel_info": {
   "name": "python3"
  },
  "kernelspec": {
   "display_name": "Python 3",
   "language": "python",
   "name": "python3"
  },
  "language_info": {
   "codemirror_mode": {
    "name": "ipython",
    "version": 3
   },
   "file_extension": ".py",
   "mimetype": "text/x-python",
   "name": "python",
   "nbconvert_exporter": "python",
   "pygments_lexer": "ipython3",
   "version": "3.6.10"
  },
  "latex_envs": {
   "LaTeX_envs_menu_present": true,
   "autoclose": false,
   "autocomplete": true,
   "bibliofile": "biblio.bib",
   "cite_by": "apalike",
   "current_citInitial": 1,
   "eqLabelWithNumbers": true,
   "eqNumInitial": 1,
   "hotkeys": {
    "equation": "Ctrl-E",
    "itemize": "Ctrl-I"
   },
   "labels_anchors": false,
   "latex_user_defs": false,
   "report_style_numbering": false,
   "user_envs_cfg": false
  },
  "nteract": {
   "version": "0.12.3"
  }
 },
 "nbformat": 4,
 "nbformat_minor": 4
}
