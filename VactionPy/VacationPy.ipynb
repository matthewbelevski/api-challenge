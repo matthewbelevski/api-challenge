{
 "cells": [
  {
   "cell_type": "markdown",
   "metadata": {},
   "source": [
    "# VacationPy\n",
    "----\n",
    "\n",
    "#### Note\n",
    "* Keep an eye on your API usage. Use https://developers.google.com/maps/reporting/gmp-reporting as reference for how to monitor your usage and billing.\n",
    "\n",
    "* Instructions have been included for each segment. You do not have to follow them exactly, but they are included to help you think through the steps."
   ]
  },
  {
   "cell_type": "code",
   "execution_count": 1,
   "metadata": {},
   "outputs": [],
   "source": [
    "# Dependencies and Setup\n",
    "import matplotlib.pyplot as plt\n",
    "import pandas as pd\n",
    "import numpy as np\n",
    "import requests\n",
    "import gmaps\n",
    "import os\n",
    "from pprint import pprint\n",
    "# Import API key\n",
    "from api_keys import g_key\n",
    "gmaps.configure(api_key=g_key)"
   ]
  },
  {
   "cell_type": "markdown",
   "metadata": {},
   "source": [
    "### Store Part I results into DataFrame\n",
    "* Load the csv exported in Part I to a DataFrame"
   ]
  },
  {
   "cell_type": "code",
   "execution_count": 2,
   "metadata": {},
   "outputs": [
    {
     "data": {
      "text/html": [
       "<div>\n",
       "<style scoped>\n",
       "    .dataframe tbody tr th:only-of-type {\n",
       "        vertical-align: middle;\n",
       "    }\n",
       "\n",
       "    .dataframe tbody tr th {\n",
       "        vertical-align: top;\n",
       "    }\n",
       "\n",
       "    .dataframe thead th {\n",
       "        text-align: right;\n",
       "    }\n",
       "</style>\n",
       "<table border=\"1\" class=\"dataframe\">\n",
       "  <thead>\n",
       "    <tr style=\"text-align: right;\">\n",
       "      <th></th>\n",
       "      <th>City Name</th>\n",
       "      <th>Lat</th>\n",
       "      <th>Long</th>\n",
       "      <th>Max Temp</th>\n",
       "      <th>Humidity</th>\n",
       "      <th>Cloudiness</th>\n",
       "      <th>Wind Speed</th>\n",
       "      <th>Country</th>\n",
       "      <th>Date</th>\n",
       "    </tr>\n",
       "  </thead>\n",
       "  <tbody>\n",
       "    <tr>\n",
       "      <th>0</th>\n",
       "      <td>Lumeje</td>\n",
       "      <td>-11.55</td>\n",
       "      <td>20.78</td>\n",
       "      <td>70.30</td>\n",
       "      <td>66.0</td>\n",
       "      <td>0.0</td>\n",
       "      <td>6.76</td>\n",
       "      <td>AO</td>\n",
       "      <td>1.601700e+09</td>\n",
       "    </tr>\n",
       "    <tr>\n",
       "      <th>1</th>\n",
       "      <td>Sawakin</td>\n",
       "      <td>19.11</td>\n",
       "      <td>37.33</td>\n",
       "      <td>86.18</td>\n",
       "      <td>62.0</td>\n",
       "      <td>0.0</td>\n",
       "      <td>4.54</td>\n",
       "      <td>SD</td>\n",
       "      <td>1.601700e+09</td>\n",
       "    </tr>\n",
       "    <tr>\n",
       "      <th>2</th>\n",
       "      <td>Rikitea</td>\n",
       "      <td>-23.12</td>\n",
       "      <td>-134.97</td>\n",
       "      <td>73.13</td>\n",
       "      <td>79.0</td>\n",
       "      <td>3.0</td>\n",
       "      <td>15.64</td>\n",
       "      <td>PF</td>\n",
       "      <td>1.601700e+09</td>\n",
       "    </tr>\n",
       "    <tr>\n",
       "      <th>3</th>\n",
       "      <td>Bethel</td>\n",
       "      <td>41.37</td>\n",
       "      <td>-73.41</td>\n",
       "      <td>46.99</td>\n",
       "      <td>93.0</td>\n",
       "      <td>1.0</td>\n",
       "      <td>4.70</td>\n",
       "      <td>US</td>\n",
       "      <td>1.601700e+09</td>\n",
       "    </tr>\n",
       "    <tr>\n",
       "      <th>4</th>\n",
       "      <td>Yellowknife</td>\n",
       "      <td>62.46</td>\n",
       "      <td>-114.35</td>\n",
       "      <td>41.00</td>\n",
       "      <td>93.0</td>\n",
       "      <td>40.0</td>\n",
       "      <td>5.82</td>\n",
       "      <td>CA</td>\n",
       "      <td>1.601700e+09</td>\n",
       "    </tr>\n",
       "  </tbody>\n",
       "</table>\n",
       "</div>"
      ],
      "text/plain": [
       "     City Name    Lat    Long  Max Temp  Humidity  Cloudiness  Wind Speed  \\\n",
       "0       Lumeje -11.55   20.78     70.30      66.0         0.0        6.76   \n",
       "1      Sawakin  19.11   37.33     86.18      62.0         0.0        4.54   \n",
       "2      Rikitea -23.12 -134.97     73.13      79.0         3.0       15.64   \n",
       "3       Bethel  41.37  -73.41     46.99      93.0         1.0        4.70   \n",
       "4  Yellowknife  62.46 -114.35     41.00      93.0        40.0        5.82   \n",
       "\n",
       "  Country          Date  \n",
       "0      AO  1.601700e+09  \n",
       "1      SD  1.601700e+09  \n",
       "2      PF  1.601700e+09  \n",
       "3      US  1.601700e+09  \n",
       "4      CA  1.601700e+09  "
      ]
     },
     "execution_count": 2,
     "metadata": {},
     "output_type": "execute_result"
    }
   ],
   "source": [
    "#imports csv file created in WeatherPy\n",
    "cities = pd.read_csv(\"../Data/city_weather.csv\", index_col = 0)\n",
    "cities.head()"
   ]
  },
  {
   "cell_type": "code",
   "execution_count": 3,
   "metadata": {},
   "outputs": [
    {
     "data": {
      "text/plain": [
       "100.0"
      ]
     },
     "execution_count": 3,
     "metadata": {},
     "output_type": "execute_result"
    }
   ],
   "source": [
    "#finds max of Humidity for the humidity heatmap\n",
    "cities[\"Humidity\"].max()"
   ]
  },
  {
   "cell_type": "markdown",
   "metadata": {},
   "source": [
    "### Humidity Heatmap\n",
    "* Configure gmaps.\n",
    "* Use the Lat and Lng as locations and Humidity as the weight.\n",
    "* Add Heatmap layer to map."
   ]
  },
  {
   "cell_type": "code",
   "execution_count": 4,
   "metadata": {},
   "outputs": [],
   "source": [
    "#sets the coordinates to plot on the map\n",
    "coordinates = cities[[\"Lat\", \"Long\"]]\n",
    "\n",
    "#will be used for the heat map scale\n",
    "humidity = cities[\"Humidity\"]"
   ]
  },
  {
   "cell_type": "code",
   "execution_count": 5,
   "metadata": {
    "scrolled": false
   },
   "outputs": [
    {
     "data": {
      "application/vnd.jupyter.widget-view+json": {
       "model_id": "f523e3aff8434e29a8840e3f29337b51",
       "version_major": 2,
       "version_minor": 0
      },
      "text/plain": [
       "Figure(layout=FigureLayout(border='0px solid black', height='600px', padding='1px', width='700px'))"
      ]
     },
     "metadata": {},
     "output_type": "display_data"
    }
   ],
   "source": [
    "#sets the figure templates\n",
    "fig = gmaps.figure(layout={\n",
    "        'width': '700px',\n",
    "        'height': '600px',\n",
    "        'padding': '1px',\n",
    "        'border': '0px solid black',\n",
    "        })\n",
    "\n",
    "#creates the heat map layer\n",
    "heat_layer = gmaps.heatmap_layer(coordinates, weights = humidity, \n",
    "                                 dissipating = False, max_intensity = 100,\n",
    "                                 point_radius = 1.5, opacity = 0.4)\n",
    "\n",
    "#adds the heat map layer to the map\n",
    "fig.add_layer(heat_layer)\n",
    "\n",
    "#saves the map - doesn't work\n",
    "#plt.savefig(\"Map Images/Humidity Heatmap.png\")\n",
    "\n",
    "#displays the map\n",
    "fig"
   ]
  },
  {
   "cell_type": "markdown",
   "metadata": {},
   "source": [
    "### Create new DataFrame fitting weather criteria\n",
    "* Narrow down the cities to fit weather conditions.\n",
    "* Drop any rows will null values."
   ]
  },
  {
   "cell_type": "code",
   "execution_count": 6,
   "metadata": {},
   "outputs": [],
   "source": [
    "#narrowing down the dataframe to fit the criteria of colder weather but not much wind because I don't like wind\n",
    "hotel_df = cities[(cities[\"Max Temp\"] < 40) & \n",
    "                       (cities[\"Max Temp\"] >= 32) &\n",
    "                        (cities[\"Humidity\"] > 85) &\n",
    "                        (cities[\"Wind Speed\"] < 10) \n",
    "                        ]"
   ]
  },
  {
   "cell_type": "code",
   "execution_count": 7,
   "metadata": {},
   "outputs": [
    {
     "data": {
      "text/plain": [
       "City Name     13\n",
       "Lat           13\n",
       "Long          13\n",
       "Max Temp      13\n",
       "Humidity      13\n",
       "Cloudiness    13\n",
       "Wind Speed    13\n",
       "Country       13\n",
       "Date          13\n",
       "dtype: int64"
      ]
     },
     "execution_count": 7,
     "metadata": {},
     "output_type": "execute_result"
    }
   ],
   "source": [
    "#shows the counts of the above criteria to see how much it narrowed down by\n",
    "hotel_df.count()"
   ]
  },
  {
   "cell_type": "markdown",
   "metadata": {},
   "source": [
    "### Hotel Map\n",
    "* Store into variable named `hotel_df`.\n",
    "* Add a \"Hotel Name\" column to the DataFrame.\n",
    "* Set parameters to search for hotels with 5000 meters.\n",
    "* Hit the Google Places API for each city's coordinates.\n",
    "* Store the first Hotel result into the DataFrame.\n",
    "* Plot markers on top of the heatmap."
   ]
  },
  {
   "cell_type": "code",
   "execution_count": 8,
   "metadata": {},
   "outputs": [
    {
     "name": "stderr",
     "output_type": "stream",
     "text": [
      "C:\\Users\\maco_\\anaconda3\\envs\\PythonData\\lib\\site-packages\\ipykernel_launcher.py:2: SettingWithCopyWarning: \n",
      "A value is trying to be set on a copy of a slice from a DataFrame.\n",
      "Try using .loc[row_indexer,col_indexer] = value instead\n",
      "\n",
      "See the caveats in the documentation: https://pandas.pydata.org/pandas-docs/stable/user_guide/indexing.html#returning-a-view-versus-a-copy\n",
      "  \n"
     ]
    }
   ],
   "source": [
    "#adds a new column for the hotel name\n",
    "hotel_df[\"Hotel Name\"] = \"\""
   ]
  },
  {
   "cell_type": "code",
   "execution_count": 9,
   "metadata": {},
   "outputs": [
    {
     "name": "stdout",
     "output_type": "stream",
     "text": [
      "Finding hotel data\n",
      "--------------------------------\n",
      "Hotel found within 5000m of Menomonie, US.\n"
     ]
    },
    {
     "name": "stderr",
     "output_type": "stream",
     "text": [
      "C:\\Users\\maco_\\anaconda3\\envs\\PythonData\\lib\\site-packages\\pandas\\core\\indexing.py:966: SettingWithCopyWarning: \n",
      "A value is trying to be set on a copy of a slice from a DataFrame.\n",
      "Try using .loc[row_indexer,col_indexer] = value instead\n",
      "\n",
      "See the caveats in the documentation: https://pandas.pydata.org/pandas-docs/stable/user_guide/indexing.html#returning-a-view-versus-a-copy\n",
      "  self.obj[item] = s\n"
     ]
    },
    {
     "name": "stdout",
     "output_type": "stream",
     "text": [
      "Hotel found within 5000m of Valparaiso, CL.\n",
      "Hotel found within 5000m of La Ronge, CA.\n",
      "Hotel found within 5000m of Geraldton, CA.\n",
      "Hotel found within 5000m of Upernavik, GL.\n",
      "Hotel found within 5000m of Aykhal, RU.\n",
      "Hotel not found within 5000m of Aykhal, RU...skipping\n",
      "Hotel found within 5000m of Longyearbyen, SJ.\n",
      "Hotel found within 5000m of Husavik, IS.\n",
      "Hotel found within 5000m of Flin Flon, CA.\n",
      "Hotel found within 5000m of Shelburne, CA.\n",
      "Hotel found within 5000m of Tasiilaq, GL.\n",
      "Hotel found within 5000m of Paamiut, GL.\n",
      "Hotel found within 5000m of Narsaq, GL.\n",
      "--------------------------------\n",
      "Data Retrieval Complete\n",
      "--------------------------------\n"
     ]
    }
   ],
   "source": [
    "#sets the base url as the gmaps api\n",
    "base_url = \"https://maps.googleapis.com/maps/api/place/nearbysearch/json\"\n",
    "\n",
    "#sets the parameters for the api call\n",
    "params = {\"radius\": \"5000\",\n",
    "         \"type\": \"lodging\",\n",
    "         \"key\" : g_key,}\n",
    "\n",
    "#prints a heading \n",
    "print(\"Finding hotel data\")\n",
    "print(\"--------------------------------\")\n",
    "\n",
    "#for loop with iterrows so it loops through the rows one at a time \n",
    "#also uses the index to set the row as a series so we can add to the row\n",
    "for index, row in hotel_df.iterrows():\n",
    "    \n",
    "#sets the lat and long values for the hotel search    \n",
    "    lat = row[\"Lat\"]   \n",
    "    long = row[\"Long\"]\n",
    "    name = row[\"City Name\"]\n",
    "    country = row[\"Country\"]\n",
    "\n",
    "#adds the lat and long to the parameters\n",
    "    params[\"location\"] = f\"{lat},{long}\"\n",
    "\n",
    "#calls the API    \n",
    "    response = requests.get(base_url, params=params).json()\n",
    "     \n",
    "#creates an exception if it cannot find the closest hotel. if it does adds the hotel name to the dataframe  \n",
    "    try:\n",
    "        print(f\"Hotel found within 5000m of {name}, {country}.\")\n",
    "     \n",
    "        hotel_df.loc[index, \"Hotel Name\"] = response[\"results\"][0]['name']\n",
    "    \n",
    "    except(KeyError, IndexError):    \n",
    "         print(f\"Hotel not found within 5000m of {name}, {country}...skipping\")   \n",
    "            \n",
    "#prints a completion statement once the loop is finished            \n",
    "print(\"--------------------------------\")          \n",
    "print(\"Data Retrieval Complete\")  \n",
    "print(\"--------------------------------\")"
   ]
  },
  {
   "cell_type": "code",
   "execution_count": 10,
   "metadata": {},
   "outputs": [
    {
     "name": "stderr",
     "output_type": "stream",
     "text": [
      "C:\\Users\\maco_\\anaconda3\\envs\\PythonData\\lib\\site-packages\\pandas\\core\\frame.py:4172: SettingWithCopyWarning: \n",
      "A value is trying to be set on a copy of a slice from a DataFrame\n",
      "\n",
      "See the caveats in the documentation: https://pandas.pydata.org/pandas-docs/stable/user_guide/indexing.html#returning-a-view-versus-a-copy\n",
      "  method=method,\n"
     ]
    }
   ],
   "source": [
    "#replaces any blank rows with Null (nan)\n",
    "hotel_df.replace(\"\", np.nan, inplace = True)\n",
    "\n",
    "#drops the rows that were unable to find the closest hotel\n",
    "hotel_df_final = hotel_df.dropna()"
   ]
  },
  {
   "cell_type": "code",
   "execution_count": 11,
   "metadata": {},
   "outputs": [
    {
     "data": {
      "text/html": [
       "<div>\n",
       "<style scoped>\n",
       "    .dataframe tbody tr th:only-of-type {\n",
       "        vertical-align: middle;\n",
       "    }\n",
       "\n",
       "    .dataframe tbody tr th {\n",
       "        vertical-align: top;\n",
       "    }\n",
       "\n",
       "    .dataframe thead th {\n",
       "        text-align: right;\n",
       "    }\n",
       "</style>\n",
       "<table border=\"1\" class=\"dataframe\">\n",
       "  <thead>\n",
       "    <tr style=\"text-align: right;\">\n",
       "      <th></th>\n",
       "      <th>City Name</th>\n",
       "      <th>Lat</th>\n",
       "      <th>Long</th>\n",
       "      <th>Max Temp</th>\n",
       "      <th>Humidity</th>\n",
       "      <th>Cloudiness</th>\n",
       "      <th>Wind Speed</th>\n",
       "      <th>Country</th>\n",
       "      <th>Date</th>\n",
       "      <th>Hotel Name</th>\n",
       "    </tr>\n",
       "  </thead>\n",
       "  <tbody>\n",
       "    <tr>\n",
       "      <th>47</th>\n",
       "      <td>Menomonie</td>\n",
       "      <td>44.88</td>\n",
       "      <td>-91.92</td>\n",
       "      <td>33.01</td>\n",
       "      <td>88.0</td>\n",
       "      <td>1.0</td>\n",
       "      <td>4.16</td>\n",
       "      <td>US</td>\n",
       "      <td>1.601700e+09</td>\n",
       "      <td>Best Western Plus Menomonie Inn &amp; Suites</td>\n",
       "    </tr>\n",
       "    <tr>\n",
       "      <th>58</th>\n",
       "      <td>Valparaiso</td>\n",
       "      <td>-33.04</td>\n",
       "      <td>-71.63</td>\n",
       "      <td>39.20</td>\n",
       "      <td>100.0</td>\n",
       "      <td>0.0</td>\n",
       "      <td>2.24</td>\n",
       "      <td>CL</td>\n",
       "      <td>1.601700e+09</td>\n",
       "      <td>Hotel Ultramar</td>\n",
       "    </tr>\n",
       "    <tr>\n",
       "      <th>87</th>\n",
       "      <td>La Ronge</td>\n",
       "      <td>55.10</td>\n",
       "      <td>-105.28</td>\n",
       "      <td>35.60</td>\n",
       "      <td>93.0</td>\n",
       "      <td>20.0</td>\n",
       "      <td>4.88</td>\n",
       "      <td>CA</td>\n",
       "      <td>1.601700e+09</td>\n",
       "      <td>Northland Motor Hotel</td>\n",
       "    </tr>\n",
       "    <tr>\n",
       "      <th>129</th>\n",
       "      <td>Geraldton</td>\n",
       "      <td>49.73</td>\n",
       "      <td>-86.95</td>\n",
       "      <td>32.00</td>\n",
       "      <td>96.0</td>\n",
       "      <td>90.0</td>\n",
       "      <td>1.45</td>\n",
       "      <td>CA</td>\n",
       "      <td>1.601700e+09</td>\n",
       "      <td>Victoria Bed &amp; Breakfast</td>\n",
       "    </tr>\n",
       "    <tr>\n",
       "      <th>137</th>\n",
       "      <td>Upernavik</td>\n",
       "      <td>72.79</td>\n",
       "      <td>-56.15</td>\n",
       "      <td>32.85</td>\n",
       "      <td>86.0</td>\n",
       "      <td>98.0</td>\n",
       "      <td>3.98</td>\n",
       "      <td>GL</td>\n",
       "      <td>1.601700e+09</td>\n",
       "      <td>Gina's Guesthouse - Upernavik</td>\n",
       "    </tr>\n",
       "    <tr>\n",
       "      <th>173</th>\n",
       "      <td>Longyearbyen</td>\n",
       "      <td>78.22</td>\n",
       "      <td>15.64</td>\n",
       "      <td>32.00</td>\n",
       "      <td>92.0</td>\n",
       "      <td>75.0</td>\n",
       "      <td>4.70</td>\n",
       "      <td>SJ</td>\n",
       "      <td>1.601700e+09</td>\n",
       "      <td>Radisson Blu Polar Hotel, Spitsbergen</td>\n",
       "    </tr>\n",
       "    <tr>\n",
       "      <th>177</th>\n",
       "      <td>Husavik</td>\n",
       "      <td>66.04</td>\n",
       "      <td>-17.34</td>\n",
       "      <td>32.00</td>\n",
       "      <td>93.0</td>\n",
       "      <td>90.0</td>\n",
       "      <td>7.11</td>\n",
       "      <td>IS</td>\n",
       "      <td>1.601700e+09</td>\n",
       "      <td>Bjarnabúð</td>\n",
       "    </tr>\n",
       "    <tr>\n",
       "      <th>195</th>\n",
       "      <td>Flin Flon</td>\n",
       "      <td>54.77</td>\n",
       "      <td>-101.86</td>\n",
       "      <td>35.51</td>\n",
       "      <td>94.0</td>\n",
       "      <td>82.0</td>\n",
       "      <td>3.78</td>\n",
       "      <td>CA</td>\n",
       "      <td>1.601700e+09</td>\n",
       "      <td>Victoria Inn Flin Flon</td>\n",
       "    </tr>\n",
       "    <tr>\n",
       "      <th>209</th>\n",
       "      <td>Shelburne</td>\n",
       "      <td>44.08</td>\n",
       "      <td>-80.20</td>\n",
       "      <td>37.40</td>\n",
       "      <td>86.0</td>\n",
       "      <td>20.0</td>\n",
       "      <td>3.36</td>\n",
       "      <td>CA</td>\n",
       "      <td>1.601700e+09</td>\n",
       "      <td>The Retreat at the Farm</td>\n",
       "    </tr>\n",
       "    <tr>\n",
       "      <th>262</th>\n",
       "      <td>Tasiilaq</td>\n",
       "      <td>65.61</td>\n",
       "      <td>-37.64</td>\n",
       "      <td>33.80</td>\n",
       "      <td>86.0</td>\n",
       "      <td>100.0</td>\n",
       "      <td>4.70</td>\n",
       "      <td>GL</td>\n",
       "      <td>1.601700e+09</td>\n",
       "      <td>The Red House</td>\n",
       "    </tr>\n",
       "    <tr>\n",
       "      <th>324</th>\n",
       "      <td>Paamiut</td>\n",
       "      <td>61.99</td>\n",
       "      <td>-49.67</td>\n",
       "      <td>36.75</td>\n",
       "      <td>88.0</td>\n",
       "      <td>100.0</td>\n",
       "      <td>7.61</td>\n",
       "      <td>GL</td>\n",
       "      <td>1.601700e+09</td>\n",
       "      <td>Yeet Hotel</td>\n",
       "    </tr>\n",
       "    <tr>\n",
       "      <th>477</th>\n",
       "      <td>Narsaq</td>\n",
       "      <td>60.92</td>\n",
       "      <td>-46.05</td>\n",
       "      <td>37.40</td>\n",
       "      <td>86.0</td>\n",
       "      <td>99.0</td>\n",
       "      <td>3.76</td>\n",
       "      <td>GL</td>\n",
       "      <td>1.601700e+09</td>\n",
       "      <td>Hotel Narsaq</td>\n",
       "    </tr>\n",
       "  </tbody>\n",
       "</table>\n",
       "</div>"
      ],
      "text/plain": [
       "        City Name    Lat    Long  Max Temp  Humidity  Cloudiness  Wind Speed  \\\n",
       "47      Menomonie  44.88  -91.92     33.01      88.0         1.0        4.16   \n",
       "58     Valparaiso -33.04  -71.63     39.20     100.0         0.0        2.24   \n",
       "87       La Ronge  55.10 -105.28     35.60      93.0        20.0        4.88   \n",
       "129     Geraldton  49.73  -86.95     32.00      96.0        90.0        1.45   \n",
       "137     Upernavik  72.79  -56.15     32.85      86.0        98.0        3.98   \n",
       "173  Longyearbyen  78.22   15.64     32.00      92.0        75.0        4.70   \n",
       "177       Husavik  66.04  -17.34     32.00      93.0        90.0        7.11   \n",
       "195     Flin Flon  54.77 -101.86     35.51      94.0        82.0        3.78   \n",
       "209     Shelburne  44.08  -80.20     37.40      86.0        20.0        3.36   \n",
       "262      Tasiilaq  65.61  -37.64     33.80      86.0       100.0        4.70   \n",
       "324       Paamiut  61.99  -49.67     36.75      88.0       100.0        7.61   \n",
       "477        Narsaq  60.92  -46.05     37.40      86.0        99.0        3.76   \n",
       "\n",
       "    Country          Date                                Hotel Name  \n",
       "47       US  1.601700e+09  Best Western Plus Menomonie Inn & Suites  \n",
       "58       CL  1.601700e+09                            Hotel Ultramar  \n",
       "87       CA  1.601700e+09                     Northland Motor Hotel  \n",
       "129      CA  1.601700e+09                  Victoria Bed & Breakfast  \n",
       "137      GL  1.601700e+09             Gina's Guesthouse - Upernavik  \n",
       "173      SJ  1.601700e+09     Radisson Blu Polar Hotel, Spitsbergen  \n",
       "177      IS  1.601700e+09                                 Bjarnabúð  \n",
       "195      CA  1.601700e+09                    Victoria Inn Flin Flon  \n",
       "209      CA  1.601700e+09                   The Retreat at the Farm  \n",
       "262      GL  1.601700e+09                             The Red House  \n",
       "324      GL  1.601700e+09                                Yeet Hotel  \n",
       "477      GL  1.601700e+09                              Hotel Narsaq  "
      ]
     },
     "execution_count": 11,
     "metadata": {},
     "output_type": "execute_result"
    }
   ],
   "source": [
    "hotel_df_final"
   ]
  },
  {
   "cell_type": "code",
   "execution_count": 12,
   "metadata": {},
   "outputs": [],
   "source": [
    "# NOTE: Do not change any of the code in this cell\n",
    "\n",
    "# Using the template add the hotel marks to the heatmap\n",
    "info_box_template = \"\"\"\n",
    "<dl>\n",
    "<dt>Hotel Name</dt><dd>{Hotel Name}</dd>\n",
    "<dt>City</dt><dd>{City Name}</dd>\n",
    "<dt>Country</dt><dd>{Country}</dd>\n",
    "</dl>\n",
    "\"\"\"\n",
    "# Store the DataFrame Row\n",
    "# NOTE: be sure to update with your DataFrame name\n",
    "hotel_info = [info_box_template.format(**row) for index, row in hotel_df_final.iterrows()]\n",
    "locations = hotel_df_final[[\"Lat\", \"Long\"]]"
   ]
  },
  {
   "cell_type": "code",
   "execution_count": 13,
   "metadata": {},
   "outputs": [
    {
     "data": {
      "application/vnd.jupyter.widget-view+json": {
       "model_id": "706252187d3e440db77fe9b405e2094c",
       "version_major": 2,
       "version_minor": 0
      },
      "text/plain": [
       "Figure(layout=FigureLayout(border='0px solid black', height='600px', padding='1px', width='700px'))"
      ]
     },
     "metadata": {},
     "output_type": "display_data"
    }
   ],
   "source": [
    "#sets the figure templates\n",
    "fig = gmaps.figure(layout={\n",
    "        'width': '700px',\n",
    "        'height': '600px',\n",
    "        'padding': '1px',\n",
    "        'border': '0px solid black'})\n",
    "\n",
    "#creates the heat map layer\n",
    "heat_layer = gmaps.heatmap_layer(coordinates, weights = humidity, \n",
    "                                 dissipating = False, max_intensity = 100,\n",
    "                                 point_radius = 1.5, opacity = 0.4)\n",
    "\n",
    "#Add marker layer ontop of heat ma\n",
    "markers = gmaps.marker_layer(locations , info_box_content = hotel_info)\n",
    "\n",
    "#adds the heat map layer to the map\n",
    "fig.add_layer(heat_layer)\n",
    "fig.add_layer(markers)\n",
    "\n",
    "#saves the map - doesn't work properly\n",
    "#plt.savefig(\"Map Images/Humidity Heatmap with Hotels.png\")\n",
    "\n",
    "#displays the map\n",
    "fig"
   ]
  },
  {
   "cell_type": "code",
   "execution_count": null,
   "metadata": {},
   "outputs": [],
   "source": []
  }
 ],
 "metadata": {
  "kernelspec": {
   "display_name": "Python 3",
   "language": "python",
   "name": "python3"
  },
  "language_info": {
   "codemirror_mode": {
    "name": "ipython",
    "version": 3
   },
   "file_extension": ".py",
   "mimetype": "text/x-python",
   "name": "python",
   "nbconvert_exporter": "python",
   "pygments_lexer": "ipython3",
   "version": "3.6.10"
  },
  "latex_envs": {
   "LaTeX_envs_menu_present": true,
   "autoclose": false,
   "autocomplete": true,
   "bibliofile": "biblio.bib",
   "cite_by": "apalike",
   "current_citInitial": 1,
   "eqLabelWithNumbers": true,
   "eqNumInitial": 1,
   "hotkeys": {
    "equation": "Ctrl-E",
    "itemize": "Ctrl-I"
   },
   "labels_anchors": false,
   "latex_user_defs": false,
   "report_style_numbering": false,
   "user_envs_cfg": false
  }
 },
 "nbformat": 4,
 "nbformat_minor": 4
}
